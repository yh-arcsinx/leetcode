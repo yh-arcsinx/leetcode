{
  "nbformat": 4,
  "nbformat_minor": 0,
  "metadata": {
    "colab": {
      "name": "1482.制作 m 束花所需的最少天数.ipynb",
      "provenance": [],
      "collapsed_sections": [],
      "authorship_tag": "ABX9TyMRJoPE2xJH8iZSYCjLuthv",
      "include_colab_link": true
    },
    "kernelspec": {
      "name": "python3",
      "display_name": "Python 3"
    },
    "language_info": {
      "name": "python"
    }
  },
  "cells": [
    {
      "cell_type": "markdown",
      "metadata": {
        "id": "view-in-github",
        "colab_type": "text"
      },
      "source": [
        "<a href=\"https://colab.research.google.com/github/yh-arcsinx/leetcode/blob/master/1482_%E5%88%B6%E4%BD%9C_m_%E6%9D%9F%E8%8A%B1%E6%89%80%E9%9C%80%E7%9A%84%E6%9C%80%E5%B0%91%E5%A4%A9%E6%95%B0.ipynb\" target=\"_parent\"><img src=\"https://colab.research.google.com/assets/colab-badge.svg\" alt=\"Open In Colab\"/></a>"
      ]
    },
    {
      "cell_type": "code",
      "metadata": {
        "id": "4yZVkGZZzJLw"
      },
      "source": [
        "from typing import List"
      ],
      "execution_count": 3,
      "outputs": []
    },
    {
      "cell_type": "code",
      "metadata": {
        "id": "0b66NOkLzNkh"
      },
      "source": [
        "class Solution:\n",
        "    def minDays(self, bloomDay: List[int], m: int, k: int) -> int:\n",
        "        if len(bloomDay)<m*k:\n",
        "            return -1\n",
        "        start = 0\n",
        "        end = max(bloomDay)\n",
        "\n",
        "        while start <end:\n",
        "            i=(start+end)//2\n",
        "            a=bloomDay[:]\n",
        "\n",
        "            num =0\n",
        "            for j in range(len(a)):\n",
        "                if a[j] <=i:\n",
        "                    a[j]=0\n",
        "            j=0\n",
        "            while j <len(a):\n",
        "                if a[j]==0 and j+k-1<len(a):\n",
        "                    for n in range(k):\n",
        "                        if a[j+n]!=0:\n",
        "                            \n",
        "                            break\n",
        "                    else:\n",
        "                        j=j+k-1\n",
        "                        num = num+1\n",
        "                j = j+1\n",
        "            if num>=m:\n",
        "                end = i\n",
        "            else: \n",
        "                start=i+1\n",
        "\n",
        "        \n",
        "        return start\n",
        "\n",
        "                "
      ],
      "execution_count": 6,
      "outputs": []
    },
    {
      "cell_type": "code",
      "metadata": {
        "id": "RoNW0tj8w_95"
      },
      "source": [
        "class Solution:\n",
        "    def minDays(self, bloomDay: List[int], m: int, k: int) -> int:\n",
        "        if len(bloomDay)<m*k:\n",
        "            return -1\n",
        "        start = 0\n",
        "        end = max(bloomDay)\n",
        "\n",
        "        while start <end:\n",
        "            i=(start+end)//2\n",
        "            num =0\n",
        "            flower=0\n",
        "            for bloom in bloomDay:\n",
        "                if bloom<=i:\n",
        "                    flower+=1\n",
        "                    if flower==k:\n",
        "                        num+=1\n",
        "                        flower=0\n",
        "                        if num==m:\n",
        "                            break\n",
        "                else:\n",
        "                    flower=0\n",
        "            if num>=m:\n",
        "                end = i\n",
        "            else: \n",
        "                start=i+1       \n",
        "        return start\n",
        "\n",
        "                "
      ],
      "execution_count": 12,
      "outputs": []
    },
    {
      "cell_type": "code",
      "metadata": {
        "colab": {
          "base_uri": "https://localhost:8080/"
        },
        "id": "UKP8s7-izOFh",
        "outputId": "5ba82c7e-ae44-49d3-a141-e65c4fe8f139"
      },
      "source": [
        "print(Solution().minDays(bloomDay = [1,10,3,10,2], m = 3, k = 1))"
      ],
      "execution_count": 13,
      "outputs": [
        {
          "output_type": "stream",
          "text": [
            "3\n"
          ],
          "name": "stdout"
        }
      ]
    },
    {
      "cell_type": "code",
      "metadata": {
        "colab": {
          "base_uri": "https://localhost:8080/"
        },
        "id": "ZduntjHwzZ-k",
        "outputId": "ff1610eb-4e7a-4558-9351-de3447e6505d"
      },
      "source": [
        "a=[1,10,3,10,2]\n",
        "max(a)\n",
        "print(max(a))"
      ],
      "execution_count": null,
      "outputs": [
        {
          "output_type": "stream",
          "text": [
            "10\n"
          ],
          "name": "stdout"
        }
      ]
    },
    {
      "cell_type": "code",
      "metadata": {
        "colab": {
          "base_uri": "https://localhost:8080/"
        },
        "id": "McTdjU5szjrX",
        "outputId": "6ac59017-3322-4327-be55-3e36a01d5ebf"
      },
      "source": [
        "a=[1,2,3,4]\n",
        "b=a\n",
        "b=b+[5]\n",
        "print(b)\n",
        "print(a)"
      ],
      "execution_count": null,
      "outputs": [
        {
          "output_type": "stream",
          "text": [
            "[1, 2, 3, 4, 5]\n",
            "[1, 2, 3, 4]\n"
          ],
          "name": "stdout"
        }
      ]
    },
    {
      "cell_type": "code",
      "metadata": {
        "id": "Ywp0C0J_Qjm9",
        "colab": {
          "base_uri": "https://localhost:8080/",
          "height": 209
        },
        "outputId": "5f6ab923-bfd7-47da-e083-33314e944f63"
      },
      "source": [
        "for i,j in range(5):\n",
        "    print(i)\n",
        "    print(j)"
      ],
      "execution_count": 1,
      "outputs": [
        {
          "output_type": "error",
          "ename": "TypeError",
          "evalue": "ignored",
          "traceback": [
            "\u001b[0;31m---------------------------------------------------------------------------\u001b[0m",
            "\u001b[0;31mTypeError\u001b[0m                                 Traceback (most recent call last)",
            "\u001b[0;32m<ipython-input-1-64c6044487a4>\u001b[0m in \u001b[0;36m<module>\u001b[0;34m()\u001b[0m\n\u001b[0;32m----> 1\u001b[0;31m \u001b[0;32mfor\u001b[0m \u001b[0mi\u001b[0m\u001b[0;34m,\u001b[0m\u001b[0mj\u001b[0m \u001b[0;32min\u001b[0m \u001b[0mrange\u001b[0m\u001b[0;34m(\u001b[0m\u001b[0;36m5\u001b[0m\u001b[0;34m)\u001b[0m\u001b[0;34m:\u001b[0m\u001b[0;34m\u001b[0m\u001b[0;34m\u001b[0m\u001b[0m\n\u001b[0m\u001b[1;32m      2\u001b[0m     \u001b[0mprint\u001b[0m\u001b[0;34m(\u001b[0m\u001b[0mi\u001b[0m\u001b[0;34m)\u001b[0m\u001b[0;34m\u001b[0m\u001b[0;34m\u001b[0m\u001b[0m\n\u001b[1;32m      3\u001b[0m     \u001b[0mprint\u001b[0m\u001b[0;34m(\u001b[0m\u001b[0mj\u001b[0m\u001b[0;34m)\u001b[0m\u001b[0;34m\u001b[0m\u001b[0;34m\u001b[0m\u001b[0m\n",
            "\u001b[0;31mTypeError\u001b[0m: cannot unpack non-iterable int object"
          ]
        }
      ]
    },
    {
      "cell_type": "code",
      "metadata": {
        "id": "8tHIw1zZcZFj"
      },
      "source": [
        ""
      ],
      "execution_count": null,
      "outputs": []
    }
  ]
}