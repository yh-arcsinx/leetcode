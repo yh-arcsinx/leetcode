{
  "nbformat": 4,
  "nbformat_minor": 0,
  "metadata": {
    "colab": {
      "name": "1848. 到目标元素的最小距离.ipynb",
      "provenance": [],
      "collapsed_sections": [],
      "authorship_tag": "ABX9TyODG1ohcre7a30LqmB5+nXy",
      "include_colab_link": true
    },
    "kernelspec": {
      "name": "python3",
      "display_name": "Python 3"
    },
    "language_info": {
      "name": "python"
    }
  },
  "cells": [
    {
      "cell_type": "markdown",
      "metadata": {
        "id": "view-in-github",
        "colab_type": "text"
      },
      "source": [
        "<a href=\"https://colab.research.google.com/github/yh-arcsinx/leetcode/blob/master/1848_%E5%88%B0%E7%9B%AE%E6%A0%87%E5%85%83%E7%B4%A0%E7%9A%84%E6%9C%80%E5%B0%8F%E8%B7%9D%E7%A6%BB.ipynb\" target=\"_parent\"><img src=\"https://colab.research.google.com/assets/colab-badge.svg\" alt=\"Open In Colab\"/></a>"
      ]
    },
    {
      "cell_type": "code",
      "metadata": {
        "id": "g3lf4GDOypC-"
      },
      "source": [
        "from typing import List"
      ],
      "execution_count": 2,
      "outputs": []
    },
    {
      "cell_type": "code",
      "metadata": {
        "id": "AO8mUlVSywAd"
      },
      "source": [
        "class Solution:\n",
        "    def getMinDistance(self, nums: List[int], target: int, start: int) -> int:\n",
        "        sum=[]\n",
        "        for i in range(len(nums)):\n",
        "            if nums[i]==target:\n",
        "                sum.append(abs(start-i))\n",
        "        return min(sum)\n"
      ],
      "execution_count": 3,
      "outputs": []
    },
    {
      "cell_type": "code",
      "metadata": {
        "id": "S0MQWptE0A5w"
      },
      "source": [
        "class Solution:\n",
        "    def getMinDistance(self, nums: List[int], target: int, start: int) -> int:\n",
        "        temp=len(nums)\n",
        "        for i in range(len(nums)):\n",
        "            if nums[i]==target:\n",
        "                temp=min(temp,abs(start-i))\n",
        "        return temp\n"
      ],
      "execution_count": 6,
      "outputs": []
    },
    {
      "cell_type": "code",
      "metadata": {
        "id": "9GL7RcBh1ApW"
      },
      "source": [
        "class Solution:\n",
        "    def getMinDistance(self, nums: List[int], target: int, start: int) -> int:\n",
        "        temp=len(nums)\n",
        "        for i in range(len(nums)):\n",
        "            if nums[i]==target and temp>abs(start-i):\n",
        "                temp=abs(start-i)\n",
        "        return temp\n"
      ],
      "execution_count": 11,
      "outputs": []
    },
    {
      "cell_type": "code",
      "metadata": {
        "colab": {
          "base_uri": "https://localhost:8080/"
        },
        "id": "xxFVVlmez7Ky",
        "outputId": "9b527b2c-0978-4148-aa04-2a7280e22ddc"
      },
      "source": [
        "print(Solution().getMinDistance(nums = [1], target = 1, start = 0))"
      ],
      "execution_count": 12,
      "outputs": [
        {
          "output_type": "stream",
          "text": [
            "0\n"
          ],
          "name": "stdout"
        }
      ]
    },
    {
      "cell_type": "code",
      "metadata": {
        "id": "Dh8YJ-sH1unE"
      },
      "source": [
        ""
      ],
      "execution_count": null,
      "outputs": []
    }
  ]
}