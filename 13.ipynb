{
  "nbformat": 4,
  "nbformat_minor": 0,
  "metadata": {
    "colab": {
      "name": "13.ipynb",
      "provenance": [],
      "authorship_tag": "ABX9TyMVYZuT0Ro7BTY56Tw50/gS",
      "include_colab_link": true
    },
    "kernelspec": {
      "name": "python3",
      "display_name": "Python 3"
    },
    "language_info": {
      "name": "python"
    }
  },
  "cells": [
    {
      "cell_type": "markdown",
      "metadata": {
        "id": "view-in-github",
        "colab_type": "text"
      },
      "source": [
        "<a href=\"https://colab.research.google.com/github/yh-arcsinx/leetcode/blob/master/13.ipynb\" target=\"_parent\"><img src=\"https://colab.research.google.com/assets/colab-badge.svg\" alt=\"Open In Colab\"/></a>"
      ]
    },
    {
      "cell_type": "code",
      "metadata": {
        "id": "srdmarkmqpXA"
      },
      "source": [
        "class Solution:\n",
        "    def romanToInt(self, s: str) -> int:\n",
        "        dict = { \"I\" : 1,\n",
        "                 \"V\" : 5, \n",
        "                 \"X\" : 10, \n",
        "                 \"L\" : 50, \n",
        "                 \"C\" : 100, \n",
        "                 \"D\" : 500, \n",
        "                 \"M\" : 1000}\n",
        "        j = 0\n",
        "        for i in range(len(s)-1):\n",
        "            if dict[s[i]] < dict[s[i+1]]:\n",
        "                j = j - dict[s[i]]\n",
        "            else:\n",
        "                j = j + dict[s[i]]\n",
        "        j = j +dict[s[-1]]\n",
        "        return j\n",
        "                "
      ],
      "execution_count": 9,
      "outputs": []
    },
    {
      "cell_type": "code",
      "metadata": {
        "id": "araQIbV488gM",
        "colab": {
          "base_uri": "https://localhost:8080/"
        },
        "outputId": "2ec115ee-9097-4571-9781-6a1825d0764c"
      },
      "source": [
        "a = Solution()\n",
        "print (a. romanToInt(\"IVX\")) "
      ],
      "execution_count": 12,
      "outputs": [
        {
          "output_type": "stream",
          "text": [
            "4\n"
          ],
          "name": "stdout"
        }
      ]
    },
    {
      "cell_type": "code",
      "metadata": {
        "id": "SePkwy6oKSzv"
      },
      "source": [
        ""
      ],
      "execution_count": null,
      "outputs": []
    },
    {
      "cell_type": "code",
      "metadata": {
        "id": "TMpRWR82Nab3"
      },
      "source": [
        ""
      ],
      "execution_count": null,
      "outputs": []
    }
  ]
}