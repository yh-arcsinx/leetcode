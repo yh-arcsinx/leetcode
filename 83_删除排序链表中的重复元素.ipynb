{
  "nbformat": 4,
  "nbformat_minor": 0,
  "metadata": {
    "colab": {
      "name": "83. 删除排序链表中的重复元素.ipynb",
      "provenance": [],
      "authorship_tag": "ABX9TyMHVXnMu5WPy28hV8zkJxif",
      "include_colab_link": true
    },
    "kernelspec": {
      "name": "python3",
      "display_name": "Python 3"
    },
    "language_info": {
      "name": "python"
    }
  },
  "cells": [
    {
      "cell_type": "markdown",
      "metadata": {
        "id": "view-in-github",
        "colab_type": "text"
      },
      "source": [
        "<a href=\"https://colab.research.google.com/github/yh-arcsinx/leetcode/blob/master/83_%E5%88%A0%E9%99%A4%E6%8E%92%E5%BA%8F%E9%93%BE%E8%A1%A8%E4%B8%AD%E7%9A%84%E9%87%8D%E5%A4%8D%E5%85%83%E7%B4%A0.ipynb\" target=\"_parent\"><img src=\"https://colab.research.google.com/assets/colab-badge.svg\" alt=\"Open In Colab\"/></a>"
      ]
    },
    {
      "cell_type": "code",
      "metadata": {
        "id": "Wb3d1cgsDzcX"
      },
      "source": [
        "# Definition for singly-linked list.\n",
        "# class ListNode:\n",
        "#     def __init__(self, val=0, next=None):\n",
        "#         self.val = val\n",
        "#         self.next = next\n",
        "class Solution:\n",
        "    def deleteDuplicates(self, head: ListNode) -> ListNode:\n",
        "        first=head\n",
        "        if not head or not head.next:\n",
        "            return head\n",
        "\n",
        "        while head:\n",
        "            if not head.next:\n",
        "                break\n",
        "            if head.val==head.next.val and not head.next.next:\n",
        "                head.next=None\n",
        "                break\n",
        "            \n",
        "            if head.val==head.next.val:\n",
        "                head.next=head.next.next\n",
        "            else:\n",
        "                head=head.next\n",
        "\n",
        "        return first"
      ],
      "execution_count": null,
      "outputs": []
    }
  ]
}