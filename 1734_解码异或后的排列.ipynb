{
  "nbformat": 4,
  "nbformat_minor": 0,
  "metadata": {
    "colab": {
      "name": "1734. 解码异或后的排列.ipynb",
      "provenance": [],
      "authorship_tag": "ABX9TyOwZn8FRIIj4RnVE+HVUVfm",
      "include_colab_link": true
    },
    "kernelspec": {
      "name": "python3",
      "display_name": "Python 3"
    },
    "language_info": {
      "name": "python"
    }
  },
  "cells": [
    {
      "cell_type": "markdown",
      "metadata": {
        "id": "view-in-github",
        "colab_type": "text"
      },
      "source": [
        "<a href=\"https://colab.research.google.com/github/yh-arcsinx/leetcode/blob/master/1734_%E8%A7%A3%E7%A0%81%E5%BC%82%E6%88%96%E5%90%8E%E7%9A%84%E6%8E%92%E5%88%97.ipynb\" target=\"_parent\"><img src=\"https://colab.research.google.com/assets/colab-badge.svg\" alt=\"Open In Colab\"/></a>"
      ]
    },
    {
      "cell_type": "code",
      "metadata": {
        "id": "T84viGPtKe8u"
      },
      "source": [
        "from typing import List\n",
        "from functools import reduce"
      ],
      "execution_count": 49,
      "outputs": []
    },
    {
      "cell_type": "code",
      "metadata": {
        "id": "7dDhb99DKt9h"
      },
      "source": [
        "class Solution:\n",
        "    def decode(self, encoded: List[int]) -> List[int]:\n",
        "        \n",
        "        length=len(encoded)\n",
        "        xor=0\n",
        "        for i in range(0,length,2):\n",
        "            xor = encoded[i+1] ^xor\n",
        "        j=[i for i in range(1,length+2)]\n",
        "        xor2=0\n",
        "        for i in range(len(j)):\n",
        "            xor2=xor2^j[i]\n",
        "        i1=xor^xor2\n",
        "        key=[i1]\n",
        "        for i in range(length):\n",
        "            i1=i1^encoded[i]\n",
        "            key.append(i1)\n",
        "\n",
        "        return key"
      ],
      "execution_count": 45,
      "outputs": []
    },
    {
      "cell_type": "code",
      "metadata": {
        "id": "ZLhBLPVBZMuP"
      },
      "source": [
        "from functools import reduce\n",
        "from itertools import accumulate\n",
        "from operator import ixor\n",
        "class Solution:\n",
        "    def decode(self, encoded: [int]) -> [int]:\n",
        "        first = reduce(lambda x,y:x^y, encoded[1::2] + list(range(1,len(encoded) + 2)))\n",
        "        return list(accumulate([first] + encoded, ixor))"
      ],
      "execution_count": 63,
      "outputs": []
    },
    {
      "cell_type": "code",
      "metadata": {
        "colab": {
          "base_uri": "https://localhost:8080/"
        },
        "id": "A1ycKecxLLGt",
        "outputId": "7789926d-84ce-4675-a562-7f52f8a4e2c4"
      },
      "source": [
        "print(Solution().decode(encoded = [3,1]))"
      ],
      "execution_count": 64,
      "outputs": [
        {
          "output_type": "stream",
          "text": [
            "[1, 2, 3]\n"
          ],
          "name": "stdout"
        }
      ]
    },
    {
      "cell_type": "code",
      "metadata": {
        "id": "rW-25gYgLTt3"
      },
      "source": [
        "j=[i for i in range(1,10)]\n"
      ],
      "execution_count": 8,
      "outputs": []
    },
    {
      "cell_type": "code",
      "metadata": {
        "colab": {
          "base_uri": "https://localhost:8080/"
        },
        "id": "bbQWZVm-Lyhw",
        "outputId": "9b9c0555-2d56-4142-aa2c-857940162422"
      },
      "source": [
        "print(sum(j))"
      ],
      "execution_count": 11,
      "outputs": [
        {
          "output_type": "stream",
          "text": [
            "45\n"
          ],
          "name": "stdout"
        }
      ]
    },
    {
      "cell_type": "code",
      "metadata": {
        "colab": {
          "base_uri": "https://localhost:8080/"
        },
        "id": "x8-u290kMYGR",
        "outputId": "b85b61e3-8d27-4540-e78e-3e3f7b23ab22"
      },
      "source": [
        "key=[1,3,5,7,2,4,6,7]\n",
        "keys=set(key)\n",
        "print(keys)"
      ],
      "execution_count": 18,
      "outputs": [
        {
          "output_type": "stream",
          "text": [
            "{1, 2, 3, 4, 5, 6, 7}\n"
          ],
          "name": "stdout"
        }
      ]
    },
    {
      "cell_type": "code",
      "metadata": {
        "colab": {
          "base_uri": "https://localhost:8080/"
        },
        "id": "-imEejPpNMvP",
        "outputId": "16594d62-4adb-4ef1-e83a-279d093a12b3"
      },
      "source": [
        "type(keys)"
      ],
      "execution_count": 19,
      "outputs": [
        {
          "output_type": "execute_result",
          "data": {
            "text/plain": [
              "set"
            ]
          },
          "metadata": {
            "tags": []
          },
          "execution_count": 19
        }
      ]
    },
    {
      "cell_type": "code",
      "metadata": {
        "colab": {
          "base_uri": "https://localhost:8080/"
        },
        "id": "FgVqua-FPQ3w",
        "outputId": "c70ff4ac-61be-4d7e-a000-ff95de52f1fd"
      },
      "source": [
        "print(6^3)"
      ],
      "execution_count": 34,
      "outputs": [
        {
          "output_type": "stream",
          "text": [
            "5\n"
          ],
          "name": "stdout"
        }
      ]
    },
    {
      "cell_type": "code",
      "metadata": {
        "colab": {
          "base_uri": "https://localhost:8080/"
        },
        "id": "0TaTTwpfPStu",
        "outputId": "9cd2209d-8ddc-49f9-ca73-4afee937ef36"
      },
      "source": [
        "print(range(1,10))"
      ],
      "execution_count": 53,
      "outputs": [
        {
          "output_type": "stream",
          "text": [
            "range(1, 10)\n"
          ],
          "name": "stdout"
        }
      ]
    },
    {
      "cell_type": "code",
      "metadata": {
        "id": "N8ZoPJbOYsRq"
      },
      "source": [
        "a=range(1,10)"
      ],
      "execution_count": 55,
      "outputs": []
    },
    {
      "cell_type": "code",
      "metadata": {
        "colab": {
          "base_uri": "https://localhost:8080/"
        },
        "id": "n6GQdZbZYv_j",
        "outputId": "a472328a-6ebb-42df-fd8c-23af099e60fc"
      },
      "source": [
        "print(a)"
      ],
      "execution_count": 56,
      "outputs": [
        {
          "output_type": "stream",
          "text": [
            "range(1, 10)\n"
          ],
          "name": "stdout"
        }
      ]
    },
    {
      "cell_type": "code",
      "metadata": {
        "colab": {
          "base_uri": "https://localhost:8080/"
        },
        "id": "0uLIL0CBYyqQ",
        "outputId": "6f695dcd-a9de-4b57-dc85-79b02e4b1141"
      },
      "source": [
        "type(a)"
      ],
      "execution_count": 57,
      "outputs": [
        {
          "output_type": "execute_result",
          "data": {
            "text/plain": [
              "range"
            ]
          },
          "metadata": {
            "tags": []
          },
          "execution_count": 57
        }
      ]
    },
    {
      "cell_type": "code",
      "metadata": {
        "colab": {
          "base_uri": "https://localhost:8080/"
        },
        "id": "w1D3NEMgY1Qp",
        "outputId": "09d0f9c6-76c7-4086-c653-c155c7ad9d56"
      },
      "source": [
        "list(a)"
      ],
      "execution_count": 58,
      "outputs": [
        {
          "output_type": "execute_result",
          "data": {
            "text/plain": [
              "[1, 2, 3, 4, 5, 6, 7, 8, 9]"
            ]
          },
          "metadata": {
            "tags": []
          },
          "execution_count": 58
        }
      ]
    },
    {
      "cell_type": "code",
      "metadata": {
        "id": "9NBpKKBsY2zs"
      },
      "source": [
        ""
      ],
      "execution_count": null,
      "outputs": []
    }
  ]
}