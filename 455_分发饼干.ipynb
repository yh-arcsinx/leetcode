{
  "nbformat": 4,
  "nbformat_minor": 0,
  "metadata": {
    "colab": {
      "name": "455. 分发饼干.ipynb",
      "provenance": [],
      "authorship_tag": "ABX9TyPXopBR6ycSPfttjX8y+Yf0",
      "include_colab_link": true
    },
    "kernelspec": {
      "name": "python3",
      "display_name": "Python 3"
    },
    "language_info": {
      "name": "python"
    }
  },
  "cells": [
    {
      "cell_type": "markdown",
      "metadata": {
        "id": "view-in-github",
        "colab_type": "text"
      },
      "source": [
        "<a href=\"https://colab.research.google.com/github/yh-arcsinx/leetcode/blob/master/455_%E5%88%86%E5%8F%91%E9%A5%BC%E5%B9%B2.ipynb\" target=\"_parent\"><img src=\"https://colab.research.google.com/assets/colab-badge.svg\" alt=\"Open In Colab\"/></a>"
      ]
    },
    {
      "cell_type": "code",
      "metadata": {
        "id": "Q_JpfSXwK1BA"
      },
      "source": [
        "from typing import List"
      ],
      "execution_count": 1,
      "outputs": []
    },
    {
      "cell_type": "code",
      "metadata": {
        "id": "V1rENwNcKzME"
      },
      "source": [
        "class Solution:\n",
        "    def findContentChildren(self, g: List[int], s: List[int]) -> int:\n",
        "        g.sort()\n",
        "        s.sort()\n",
        "        i=0\n",
        "        for j in range(len(s)):\n",
        "            if i==len(g):\n",
        "                break\n",
        "\n",
        "            if g[i]<=s[j]:\n",
        "                i+=1\n",
        "        return i\n",
        "        "
      ],
      "execution_count": 4,
      "outputs": []
    },
    {
      "cell_type": "code",
      "metadata": {
        "id": "1M_Ln4qQN3Oh"
      },
      "source": [
        "class Solution:\n",
        "    def findContentChildren(self, g: List[int], s: List[int]) -> int:\n",
        "        g.sort()\n",
        "        s.sort()\n",
        "        i=0\n",
        "        j=0\n",
        "        while i<len(g) and j<len(s):\n",
        "            if g[i]<=s[j]:\n",
        "                i+=1\n",
        "            j+=1\n",
        "        return i\n"
      ],
      "execution_count": null,
      "outputs": []
    },
    {
      "cell_type": "code",
      "metadata": {
        "colab": {
          "base_uri": "https://localhost:8080/"
        },
        "id": "8rRxapoKK5fT",
        "outputId": "96c1280f-f606-403a-cb62-ef6cfa34346d"
      },
      "source": [
        "a=[1,2,3,4,7,6,5,5]\n",
        "a.sort()\n",
        "print(a)"
      ],
      "execution_count": 2,
      "outputs": [
        {
          "output_type": "stream",
          "text": [
            "[1, 2, 3, 4, 5, 5, 6, 7]\n"
          ],
          "name": "stdout"
        }
      ]
    },
    {
      "cell_type": "code",
      "metadata": {
        "id": "OJK2LYODK-_M"
      },
      "source": [
        ""
      ],
      "execution_count": null,
      "outputs": []
    }
  ]
}