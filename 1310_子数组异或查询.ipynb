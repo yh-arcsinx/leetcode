{
  "nbformat": 4,
  "nbformat_minor": 0,
  "metadata": {
    "colab": {
      "name": "1310. 子数组异或查询.ipynb",
      "provenance": [],
      "authorship_tag": "ABX9TyPN/eBnOlFl/HcJ7oJZedKw",
      "include_colab_link": true
    },
    "kernelspec": {
      "name": "python3",
      "display_name": "Python 3"
    },
    "language_info": {
      "name": "python"
    }
  },
  "cells": [
    {
      "cell_type": "markdown",
      "metadata": {
        "id": "view-in-github",
        "colab_type": "text"
      },
      "source": [
        "<a href=\"https://colab.research.google.com/github/yh-arcsinx/leetcode/blob/master/1310_%E5%AD%90%E6%95%B0%E7%BB%84%E5%BC%82%E6%88%96%E6%9F%A5%E8%AF%A2.ipynb\" target=\"_parent\"><img src=\"https://colab.research.google.com/assets/colab-badge.svg\" alt=\"Open In Colab\"/></a>"
      ]
    },
    {
      "cell_type": "code",
      "metadata": {
        "id": "j3h5BT-VX8P8"
      },
      "source": [
        "from typing import List"
      ],
      "execution_count": 2,
      "outputs": []
    },
    {
      "cell_type": "code",
      "metadata": {
        "id": "nC9UjZMiXWV8"
      },
      "source": [
        "class Solution:\n",
        "    def xorQueries(self, arr: List[int], queries: List[List[int]]) -> List[int]:\n",
        "        arrnow=[0]\n",
        "        for i in arr:\n",
        "            arrnow.append(i^arrnow[-1])\n",
        "        for i in range(len(queries)):\n",
        "            queries[i]=arrnow[queries[i][0]]^arrnow[queries[i][1]+1]\n",
        "        return queries"
      ],
      "execution_count": null,
      "outputs": []
    },
    {
      "cell_type": "code",
      "metadata": {
        "id": "SODq-P0WXbkn"
      },
      "source": [
        "class Solution:\n",
        "    def xorQueries(self, arr: List[int], queries: List[List[int]]) -> List[int]:\n",
        "        arrnow=[0]\n",
        "        for i in arr:\n",
        "            arrnow.append(i^arrnow[-1])\n",
        "        answer=[]\n",
        "        for l,r in queries:\n",
        "            answer.append(arrnow[l]^arrnow[r+1])\n",
        "            # print(\"l:\",l,\"r\",r)\n",
        "            # queries[i]=arrnow[queries[i][0]]^arrnow[queries[i][1]+1]\n",
        "        return answer"
      ],
      "execution_count": 5,
      "outputs": []
    },
    {
      "cell_type": "code",
      "metadata": {
        "colab": {
          "base_uri": "https://localhost:8080/"
        },
        "id": "YBOpntIuX0og",
        "outputId": "099883eb-adc3-4a07-9d23-530b890b4a20"
      },
      "source": [
        "print(Solution().xorQueries(arr = [1,3,4,8], queries = [[0,1],[1,2],[0,3],[3,3]]))"
      ],
      "execution_count": 6,
      "outputs": [
        {
          "output_type": "stream",
          "text": [
            "[2, 7, 14, 8]\n"
          ],
          "name": "stdout"
        }
      ]
    },
    {
      "cell_type": "code",
      "metadata": {
        "id": "HQt59_7aYKBZ"
      },
      "source": [
        ""
      ],
      "execution_count": null,
      "outputs": []
    }
  ]
}