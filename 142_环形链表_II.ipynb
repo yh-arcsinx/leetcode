{
  "nbformat": 4,
  "nbformat_minor": 0,
  "metadata": {
    "colab": {
      "name": "142. 环形链表 II.ipynb",
      "provenance": [],
      "collapsed_sections": [],
      "authorship_tag": "ABX9TyMCOs/g3gBRh6HTn9dxXFxf",
      "include_colab_link": true
    },
    "kernelspec": {
      "name": "python3",
      "display_name": "Python 3"
    },
    "language_info": {
      "name": "python"
    }
  },
  "cells": [
    {
      "cell_type": "markdown",
      "metadata": {
        "id": "view-in-github",
        "colab_type": "text"
      },
      "source": [
        "<a href=\"https://colab.research.google.com/github/yh-arcsinx/leetcode/blob/master/142_%E7%8E%AF%E5%BD%A2%E9%93%BE%E8%A1%A8_II.ipynb\" target=\"_parent\"><img src=\"https://colab.research.google.com/assets/colab-badge.svg\" alt=\"Open In Colab\"/></a>"
      ]
    },
    {
      "cell_type": "code",
      "metadata": {
        "id": "ynV9EwXLT0Ax"
      },
      "source": [
        "# Definition for singly-linked list.\n",
        "# class ListNode:\n",
        "#     def __init__(self, x):\n",
        "#         self.val = x\n",
        "#         self.next = None\n",
        "\n",
        "class Solution:\n",
        "    def detectCycle(self, head: ListNode) -> ListNode:\n",
        "        if not head or not head.next:\n",
        "            return None\n",
        "        \n",
        "        start=head\n",
        "        end=head\n",
        "        while start and start.next:\n",
        "            start=start.next.next\n",
        "            end=end.next\n",
        "            if start==end:\n",
        "                ptr=head\n",
        "                while head:\n",
        "                    if start==ptr:\n",
        "                        return start\n",
        "                    ptr=ptr.next\n",
        "                    start=start.next\n",
        "\n",
        "        return None"
      ],
      "execution_count": null,
      "outputs": []
    }
  ]
}