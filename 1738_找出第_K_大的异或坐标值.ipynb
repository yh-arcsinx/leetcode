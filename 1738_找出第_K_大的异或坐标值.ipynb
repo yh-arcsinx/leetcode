{
  "nbformat": 4,
  "nbformat_minor": 0,
  "metadata": {
    "colab": {
      "name": "1738. 找出第 K 大的异或坐标值.ipynb",
      "provenance": [],
      "authorship_tag": "ABX9TyOm4UE8o0AJL9ICIhL2wyvK",
      "include_colab_link": true
    },
    "kernelspec": {
      "name": "python3",
      "display_name": "Python 3"
    },
    "language_info": {
      "name": "python"
    }
  },
  "cells": [
    {
      "cell_type": "markdown",
      "metadata": {
        "id": "view-in-github",
        "colab_type": "text"
      },
      "source": [
        "<a href=\"https://colab.research.google.com/github/yh-arcsinx/leetcode/blob/master/1738_%E6%89%BE%E5%87%BA%E7%AC%AC_K_%E5%A4%A7%E7%9A%84%E5%BC%82%E6%88%96%E5%9D%90%E6%A0%87%E5%80%BC.ipynb\" target=\"_parent\"><img src=\"https://colab.research.google.com/assets/colab-badge.svg\" alt=\"Open In Colab\"/></a>"
      ]
    },
    {
      "cell_type": "code",
      "metadata": {
        "id": "QiKgzkZ8HK9d"
      },
      "source": [
        "from typing import List"
      ],
      "execution_count": 1,
      "outputs": []
    },
    {
      "cell_type": "code",
      "metadata": {
        "id": "uA_wrDHwHGK4"
      },
      "source": [
        "class Solution:\n",
        "    def kthLargestValue(self, matrix: List[List[int]], k: int) -> int:\n",
        "        list1=[]\n",
        "        for i in range(len(matrix)):\n",
        "            for j in range(len(matrix[0])):\n",
        "                if i==0 and j==0:\n",
        "                    pass\n",
        "                elif i==0 and j!=0:\n",
        "                    matrix[i][j]=matrix[i][j]^matrix[i][j-1]\n",
        "                elif i!=0 and j==0:\n",
        "                    matrix[i][j]=matrix[i][j]^matrix[i-1][j]\n",
        "                else:\n",
        "                    matrix[i][j]=matrix[i][j]^matrix[i][j-1]^matrix[i-1][j]^matrix[i-1][j-1]\n",
        "                list1.append(matrix[i][j])\n",
        "        \n",
        "        list1.sort(reverse=True)\n",
        "\n",
        "        return list1[k-1]"
      ],
      "execution_count": 11,
      "outputs": []
    },
    {
      "cell_type": "code",
      "metadata": {
        "colab": {
          "base_uri": "https://localhost:8080/"
        },
        "id": "VXi-Jc4MKODE",
        "outputId": "f7df534a-c7a3-4fbc-84f4-b7aa63a4633a"
      },
      "source": [
        "print(Solution().kthLargestValue(matrix = [[5,2],[1,6]], k = 1))"
      ],
      "execution_count": 12,
      "outputs": [
        {
          "output_type": "stream",
          "text": [
            "[5, 7, 4, 0]\n"
          ],
          "name": "stdout"
        }
      ]
    },
    {
      "cell_type": "code",
      "metadata": {
        "id": "fCv7KKuZHOGd"
      },
      "source": [
        "list1=[[2,3],[4,5],[1,3],[2,3]]"
      ],
      "execution_count": 3,
      "outputs": []
    },
    {
      "cell_type": "code",
      "metadata": {
        "colab": {
          "base_uri": "https://localhost:8080/",
          "height": 173
        },
        "id": "f8eK-WLoHXK5",
        "outputId": "3971f076-b859-49af-c251-847aab73a0a4"
      },
      "source": [
        "set(list1)"
      ],
      "execution_count": 4,
      "outputs": [
        {
          "output_type": "error",
          "ename": "TypeError",
          "evalue": "ignored",
          "traceback": [
            "\u001b[0;31m---------------------------------------------------------------------------\u001b[0m",
            "\u001b[0;31mTypeError\u001b[0m                                 Traceback (most recent call last)",
            "\u001b[0;32m<ipython-input-4-be4b2fe72e27>\u001b[0m in \u001b[0;36m<module>\u001b[0;34m()\u001b[0m\n\u001b[0;32m----> 1\u001b[0;31m \u001b[0mset\u001b[0m\u001b[0;34m(\u001b[0m\u001b[0mlist1\u001b[0m\u001b[0;34m)\u001b[0m\u001b[0;34m\u001b[0m\u001b[0;34m\u001b[0m\u001b[0m\n\u001b[0m",
            "\u001b[0;31mTypeError\u001b[0m: unhashable type: 'list'"
          ]
        }
      ]
    },
    {
      "cell_type": "code",
      "metadata": {
        "id": "CUNduyFhHarV"
      },
      "source": [
        "listw=[1,2,5,4,3]"
      ],
      "execution_count": 5,
      "outputs": []
    },
    {
      "cell_type": "code",
      "metadata": {
        "colab": {
          "base_uri": "https://localhost:8080/"
        },
        "id": "Dip-4Tn8Heud",
        "outputId": "263362df-6861-4324-f264-ece04f07ef47"
      },
      "source": [
        "set(listw)"
      ],
      "execution_count": 6,
      "outputs": [
        {
          "output_type": "execute_result",
          "data": {
            "text/plain": [
              "{1, 2, 3, 4, 5}"
            ]
          },
          "metadata": {
            "tags": []
          },
          "execution_count": 6
        }
      ]
    },
    {
      "cell_type": "code",
      "metadata": {
        "id": "YmEZ3tXTHglN"
      },
      "source": [
        "listw.sort?"
      ],
      "execution_count": 16,
      "outputs": []
    },
    {
      "cell_type": "code",
      "metadata": {
        "id": "2LEWTDveLrLC"
      },
      "source": [
        ""
      ],
      "execution_count": null,
      "outputs": []
    }
  ]
}