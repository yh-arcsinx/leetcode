{
  "nbformat": 4,
  "nbformat_minor": 0,
  "metadata": {
    "colab": {
      "name": "665. 非递减数列.ipynb",
      "provenance": [],
      "authorship_tag": "ABX9TyOjfjcy9C8fwRXBjVqBVx/4",
      "include_colab_link": true
    },
    "kernelspec": {
      "name": "python3",
      "display_name": "Python 3"
    },
    "language_info": {
      "name": "python"
    }
  },
  "cells": [
    {
      "cell_type": "markdown",
      "metadata": {
        "id": "view-in-github",
        "colab_type": "text"
      },
      "source": [
        "<a href=\"https://colab.research.google.com/github/yh-arcsinx/leetcode/blob/master/665_%E9%9D%9E%E9%80%92%E5%87%8F%E6%95%B0%E5%88%97.ipynb\" target=\"_parent\"><img src=\"https://colab.research.google.com/assets/colab-badge.svg\" alt=\"Open In Colab\"/></a>"
      ]
    },
    {
      "cell_type": "code",
      "metadata": {
        "id": "goM5dPAnt5MQ"
      },
      "source": [
        "from typing import List"
      ],
      "execution_count": 1,
      "outputs": []
    },
    {
      "cell_type": "code",
      "metadata": {
        "id": "GEiwn6fSwFH1"
      },
      "source": [
        "class Solution:\n",
        "    def checkPossibility(self, nums: List[int]) -> bool:\n",
        "        count=0\n",
        "        if len(nums)==1 or len(nums)==0:\n",
        "            return True\n",
        "        for i in range(len(nums)-1):\n",
        "            if nums[i+1]-nums[i]<0:\n",
        "                if :\n",
        "                    if count==1:\n",
        "                        return False\n",
        "                    count=1\n",
        "                else:\n",
        "                    return False\n",
        "        return True"
      ],
      "execution_count": 6,
      "outputs": []
    },
    {
      "cell_type": "code",
      "metadata": {
        "colab": {
          "base_uri": "https://localhost:8080/"
        },
        "id": "qsrmnZDiwGcs",
        "outputId": "f0720bc3-8592-4107-9feb-bc53f3fdfc84"
      },
      "source": [
        "print(Solution().checkPossibility([3,4,2,5]))"
      ],
      "execution_count": 8,
      "outputs": [
        {
          "output_type": "stream",
          "text": [
            "True\n"
          ],
          "name": "stdout"
        }
      ]
    },
    {
      "cell_type": "code",
      "metadata": {
        "id": "slUpOBZdwO2y"
      },
      "source": [
        ""
      ],
      "execution_count": null,
      "outputs": []
    }
  ]
}