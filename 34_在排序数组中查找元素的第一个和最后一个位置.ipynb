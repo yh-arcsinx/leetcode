{
  "nbformat": 4,
  "nbformat_minor": 0,
  "metadata": {
    "colab": {
      "name": "34. 在排序数组中查找元素的第一个和最后一个位置.ipynb",
      "provenance": [],
      "authorship_tag": "ABX9TyN6hWKJxwutAYbaFmBupSfz",
      "include_colab_link": true
    },
    "kernelspec": {
      "name": "python3",
      "display_name": "Python 3"
    },
    "language_info": {
      "name": "python"
    }
  },
  "cells": [
    {
      "cell_type": "markdown",
      "metadata": {
        "id": "view-in-github",
        "colab_type": "text"
      },
      "source": [
        "<a href=\"https://colab.research.google.com/github/yh-arcsinx/leetcode/blob/master/34_%E5%9C%A8%E6%8E%92%E5%BA%8F%E6%95%B0%E7%BB%84%E4%B8%AD%E6%9F%A5%E6%89%BE%E5%85%83%E7%B4%A0%E7%9A%84%E7%AC%AC%E4%B8%80%E4%B8%AA%E5%92%8C%E6%9C%80%E5%90%8E%E4%B8%80%E4%B8%AA%E4%BD%8D%E7%BD%AE.ipynb\" target=\"_parent\"><img src=\"https://colab.research.google.com/assets/colab-badge.svg\" alt=\"Open In Colab\"/></a>"
      ]
    },
    {
      "cell_type": "code",
      "metadata": {
        "id": "bv7kp7lynTjf"
      },
      "source": [
        "class Solution:\n",
        "    def searchRange(self, nums: List[int], target: int) -> List[int]:\n",
        "        start = 0\n",
        "        end = len(nums) - 1\n",
        "        while start <= end:\n",
        "            middle = (start + end) // 2\n",
        "            if nums[middle] < target:\n",
        "                start = middle + 1\n",
        "            elif nums[middle] > target:\n",
        "                end = middle -1\n",
        "            elif nums[middle] == target:\n",
        "                break\n",
        "        if start > end:\n",
        "            return [-1, -1]\n",
        "        start = end = middle\n",
        "        while True:\n",
        "            if start > -1 and nums[start] == target :\n",
        "                start -= 1\n",
        "            elif end < len(nums) and nums[end] ==target:\n",
        "                end += 1\n",
        "            else:\n",
        "                return [start + 1, end - 1]"
      ],
      "execution_count": null,
      "outputs": []
    }
  ]
}