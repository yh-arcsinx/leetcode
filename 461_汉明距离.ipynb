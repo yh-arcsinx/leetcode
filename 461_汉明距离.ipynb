{
  "nbformat": 4,
  "nbformat_minor": 0,
  "metadata": {
    "colab": {
      "name": "461. 汉明距离.ipynb",
      "provenance": [],
      "authorship_tag": "ABX9TyN0RixITVHTkHaFpaO9MpGk",
      "include_colab_link": true
    },
    "kernelspec": {
      "name": "python3",
      "display_name": "Python 3"
    },
    "language_info": {
      "name": "python"
    }
  },
  "cells": [
    {
      "cell_type": "markdown",
      "metadata": {
        "id": "view-in-github",
        "colab_type": "text"
      },
      "source": [
        "<a href=\"https://colab.research.google.com/github/yh-arcsinx/leetcode/blob/master/461_%E6%B1%89%E6%98%8E%E8%B7%9D%E7%A6%BB.ipynb\" target=\"_parent\"><img src=\"https://colab.research.google.com/assets/colab-badge.svg\" alt=\"Open In Colab\"/></a>"
      ]
    },
    {
      "cell_type": "code",
      "metadata": {
        "id": "khrqrJ29ht3T"
      },
      "source": [
        "class Solution:\n",
        "    def hammingDistance(self, x: int, y: int) -> int:\n",
        "        return bin(x^y).count(\"1\")\n"
      ],
      "execution_count": null,
      "outputs": []
    },
    {
      "cell_type": "code",
      "metadata": {
        "id": "VqA1wbu2h1Z1"
      },
      "source": [
        "class Solution:\n",
        "    def hammingDistance(self, x: int, y: int) -> int:\n",
        "        num = 0\n",
        "        n = x^y\n",
        "        while n:\n",
        "            num += 1\n",
        "            n &= n-1\n",
        "        return num\n"
      ],
      "execution_count": null,
      "outputs": []
    }
  ]
}