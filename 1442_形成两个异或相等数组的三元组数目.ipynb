{
  "nbformat": 4,
  "nbformat_minor": 0,
  "metadata": {
    "colab": {
      "name": "1442. 形成两个异或相等数组的三元组数目.ipynb",
      "provenance": [],
      "collapsed_sections": [],
      "authorship_tag": "ABX9TyO65KN8Tstqy5dxGlj5QSND",
      "include_colab_link": true
    },
    "kernelspec": {
      "name": "python3",
      "display_name": "Python 3"
    },
    "language_info": {
      "name": "python"
    }
  },
  "cells": [
    {
      "cell_type": "markdown",
      "metadata": {
        "id": "view-in-github",
        "colab_type": "text"
      },
      "source": [
        "<a href=\"https://colab.research.google.com/github/yh-arcsinx/leetcode/blob/master/1442_%E5%BD%A2%E6%88%90%E4%B8%A4%E4%B8%AA%E5%BC%82%E6%88%96%E7%9B%B8%E7%AD%89%E6%95%B0%E7%BB%84%E7%9A%84%E4%B8%89%E5%85%83%E7%BB%84%E6%95%B0%E7%9B%AE.ipynb\" target=\"_parent\"><img src=\"https://colab.research.google.com/assets/colab-badge.svg\" alt=\"Open In Colab\"/></a>"
      ]
    },
    {
      "cell_type": "code",
      "metadata": {
        "id": "4Uf6v3oHHfw-"
      },
      "source": [
        "class Solution:\n",
        "    def countTriplets(self, arr: List[int]) -> int:\n",
        "        \"\"\"暴力ac\"\"\"\n",
        "        num=0\n",
        "        for i in range(len(arr)-1):\n",
        "            for j in range(i+1,len(arr)):\n",
        "                if reduce(lambda x,y:x^y,arr[i:j+1])==0:\n",
        "                    num=num+j-i\n",
        "\n",
        "        return num "
      ],
      "execution_count": null,
      "outputs": []
    },
    {
      "cell_type": "code",
      "metadata": {
        "id": "VxtRvNcSKHpQ"
      },
      "source": [
        "class Solution:\n",
        "    def countTriplets(self, arr: List[int]) -> int:\n",
        "        num=0\n",
        "        list1=[0]+list(accumulate(arr,ixor))\n",
        "\n",
        "        for i in range(1,len(list1)-1):\n",
        "            for j in range(i+1,len(list1)):\n",
        "                if list1[i-1]^list1[j]==0:\n",
        "                    num=num+j-i\n",
        "\n",
        "        return num "
      ],
      "execution_count": null,
      "outputs": []
    },
    {
      "cell_type": "code",
      "metadata": {
        "id": "ebXkfSYSQSre"
      },
      "source": [
        "from typing import List\n",
        "from collections import Counter"
      ],
      "execution_count": 4,
      "outputs": []
    },
    {
      "cell_type": "code",
      "metadata": {
        "id": "LIHqLuY6QYMQ"
      },
      "source": [
        "class Solution:\n",
        "    def countTriplets(self, arr: List[int]) -> int:\n",
        "        n = len(arr)\n",
        "        s = [0]\n",
        "        for val in arr:\n",
        "            s.append(s[-1] ^ val)\n",
        "        \n",
        "        cnt, total = Counter(), Counter()\n",
        "        \n",
        "        ans = 0\n",
        "        for k in range(n):\n",
        "            if s[k + 1] in cnt:\n",
        "                print(cnt)\n",
        "                ans += cnt[s[k + 1]] * k - total[s[k + 1]]\n",
        "            cnt[s[k]] += 1\n",
        "            total[s[k]] += k\n",
        "\n",
        "        return ans\n"
      ],
      "execution_count": 9,
      "outputs": []
    },
    {
      "cell_type": "code",
      "metadata": {
        "id": "MVWFZ7t-VNza"
      },
      "source": [
        "class Solution:\n",
        "    def countTriplets(self, arr: List[int]) -> int:\n",
        "        cnt, total = Counter(), Counter()\n",
        "        ans = s = 0\n",
        "\n",
        "        for k, val in enumerate(arr):\n",
        "            t=s^val\n",
        "            if t in cnt:\n",
        "                ans += cnt[t] * k - total[t]\n",
        "            cnt[s] += 1\n",
        "            total[s] += k\n",
        "            s = t\n",
        "\n",
        "        return ans\n"
      ],
      "execution_count": 35,
      "outputs": []
    },
    {
      "cell_type": "code",
      "metadata": {
        "colab": {
          "base_uri": "https://localhost:8080/"
        },
        "id": "NMctaN14Qd8b",
        "outputId": "14ec8292-286c-42df-d092-41cc11b768c4"
      },
      "source": [
        "print(Solution().countTriplets(arr = [2,3,1,6,7]))"
      ],
      "execution_count": 36,
      "outputs": [
        {
          "output_type": "stream",
          "text": [
            "4\n"
          ],
          "name": "stdout"
        }
      ]
    },
    {
      "cell_type": "code",
      "metadata": {
        "id": "iX8xyYdOQmI_"
      },
      "source": [
        "a=Counter()"
      ],
      "execution_count": 11,
      "outputs": []
    },
    {
      "cell_type": "code",
      "metadata": {
        "id": "Y66lv_BAUExv"
      },
      "source": [
        "a[1]=1"
      ],
      "execution_count": 12,
      "outputs": []
    },
    {
      "cell_type": "code",
      "metadata": {
        "colab": {
          "base_uri": "https://localhost:8080/"
        },
        "id": "5m3hC_IjUXpX",
        "outputId": "5fb52b55-cab1-465b-b68f-bef680fc479e"
      },
      "source": [
        "a[1]"
      ],
      "execution_count": 13,
      "outputs": [
        {
          "output_type": "execute_result",
          "data": {
            "text/plain": [
              "1"
            ]
          },
          "metadata": {
            "tags": []
          },
          "execution_count": 13
        }
      ]
    },
    {
      "cell_type": "code",
      "metadata": {
        "id": "57vIlWYNUY9V"
      },
      "source": [
        "a[2]+=1"
      ],
      "execution_count": 16,
      "outputs": []
    },
    {
      "cell_type": "code",
      "metadata": {
        "colab": {
          "base_uri": "https://localhost:8080/"
        },
        "id": "2Z-R1jNbUapW",
        "outputId": "1bfa59dc-525d-41eb-f130-756e2762939f"
      },
      "source": [
        "a"
      ],
      "execution_count": 17,
      "outputs": [
        {
          "output_type": "execute_result",
          "data": {
            "text/plain": [
              "Counter({1: 1, 2: 1})"
            ]
          },
          "metadata": {
            "tags": []
          },
          "execution_count": 17
        }
      ]
    },
    {
      "cell_type": "code",
      "metadata": {
        "colab": {
          "base_uri": "https://localhost:8080/"
        },
        "id": "JOr2iSzwUfbp",
        "outputId": "567569cf-9f47-4408-c4a1-b3df7723ce61"
      },
      "source": [
        "a[2]"
      ],
      "execution_count": 18,
      "outputs": [
        {
          "output_type": "execute_result",
          "data": {
            "text/plain": [
              "1"
            ]
          },
          "metadata": {
            "tags": []
          },
          "execution_count": 18
        }
      ]
    },
    {
      "cell_type": "code",
      "metadata": {
        "id": "5_U9SetkUhsU"
      },
      "source": [
        ""
      ],
      "execution_count": null,
      "outputs": []
    }
  ]
}