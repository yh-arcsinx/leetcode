{
  "nbformat": 4,
  "nbformat_minor": 0,
  "metadata": {
    "colab": {
      "name": "167. 两数之和 II - 输入有序数组.ipynb",
      "provenance": [],
      "authorship_tag": "ABX9TyNgFBUiRq4suXIYGqmbbr8o",
      "include_colab_link": true
    },
    "kernelspec": {
      "name": "python3",
      "display_name": "Python 3"
    },
    "language_info": {
      "name": "python"
    }
  },
  "cells": [
    {
      "cell_type": "markdown",
      "metadata": {
        "id": "view-in-github",
        "colab_type": "text"
      },
      "source": [
        "<a href=\"https://colab.research.google.com/github/yh-arcsinx/leetcode/blob/master/167_%E4%B8%A4%E6%95%B0%E4%B9%8B%E5%92%8C_II_%E8%BE%93%E5%85%A5%E6%9C%89%E5%BA%8F%E6%95%B0%E7%BB%84.ipynb\" target=\"_parent\"><img src=\"https://colab.research.google.com/assets/colab-badge.svg\" alt=\"Open In Colab\"/></a>"
      ]
    },
    {
      "cell_type": "code",
      "metadata": {
        "id": "3vXHGNWkHBVz"
      },
      "source": [
        "from typing import List"
      ],
      "execution_count": 1,
      "outputs": []
    },
    {
      "cell_type": "code",
      "metadata": {
        "id": "BgZRnJ0iHFPT"
      },
      "source": [
        "class Solution:\n",
        "    \"\"\"哈希表\"\"\"\n",
        "    def twoSum(self, numbers: List[int], target: int) -> List[int]:\n",
        "        map1={}\n",
        "        for i in range(len(numbers)):\n",
        "\n",
        "            if numbers[i] in map1:\n",
        "                a=[i+1,map1[numbers[i]]]\n",
        "                a.sort()\n",
        "                return a\n",
        "            else:\n",
        "                map1[target-numbers[i]]=i+1\n",
        "        "
      ],
      "execution_count": 4,
      "outputs": []
    },
    {
      "cell_type": "code",
      "metadata": {
        "colab": {
          "base_uri": "https://localhost:8080/"
        },
        "id": "EvT-P3s4HGAQ",
        "outputId": "16ce4409-be35-4ad6-ebc7-32f5e5b5911a"
      },
      "source": [
        "print(Solution().twoSum([2,3,7,9],9))"
      ],
      "execution_count": 10,
      "outputs": [
        {
          "output_type": "stream",
          "text": [
            "[1, 3]\n"
          ],
          "name": "stdout"
        }
      ]
    },
    {
      "cell_type": "code",
      "metadata": {
        "id": "9Dxx84G5HNf-"
      },
      "source": [
        "class Solution:\n",
        "    \"\"\"双指针\"\"\"\n",
        "    def twoSum(self, numbers: List[int], target: int) -> List[int]:\n",
        "        map1={}\n",
        "        start=0\n",
        "        end=len(numbers)-1\n",
        "        while start<end:\n",
        "            if numbers[start]+numbers[end]==target:\n",
        "                return [start+1,end+1]\n",
        "            elif numbers[start]+numbers[end]<target:\n",
        "                start+=1\n",
        "            else:\n",
        "                end-=1\n",
        "        "
      ],
      "execution_count": 11,
      "outputs": []
    },
    {
      "cell_type": "code",
      "metadata": {
        "id": "sl3FJWzqJMe0"
      },
      "source": [
        ""
      ],
      "execution_count": null,
      "outputs": []
    }
  ]
}