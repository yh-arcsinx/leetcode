{
  "nbformat": 4,
  "nbformat_minor": 0,
  "metadata": {
    "colab": {
      "name": "27. 移除元素.ipynb",
      "provenance": [],
      "authorship_tag": "ABX9TyOorC1xsxQbx0PiyXRQtJ2w",
      "include_colab_link": true
    },
    "kernelspec": {
      "name": "python3",
      "display_name": "Python 3"
    },
    "language_info": {
      "name": "python"
    }
  },
  "cells": [
    {
      "cell_type": "markdown",
      "metadata": {
        "id": "view-in-github",
        "colab_type": "text"
      },
      "source": [
        "<a href=\"https://colab.research.google.com/github/yh-arcsinx/leetcode/blob/master/27_%E7%A7%BB%E9%99%A4%E5%85%83%E7%B4%A0.ipynb\" target=\"_parent\"><img src=\"https://colab.research.google.com/assets/colab-badge.svg\" alt=\"Open In Colab\"/></a>"
      ]
    },
    {
      "cell_type": "code",
      "metadata": {
        "id": "Tq_Ow4lEMNRc"
      },
      "source": [
        "from typing import List"
      ],
      "execution_count": 1,
      "outputs": []
    },
    {
      "cell_type": "code",
      "metadata": {
        "id": "b0owg6H7MIxc"
      },
      "source": [
        "class Solution:\n",
        "    def removeElement(self, nums: List[int], val: int) -> int:\n",
        "        count=0\n",
        "        a=len(nums)\n",
        "        for i in range(a):\n",
        "            if nums[a-i-1]==val and i!=a-1:\n",
        "                nums[:]=nums[:a-i-1]+nums[a-i:]\n",
        "                count+=1\n",
        "            elif nums[a-i-1]==val and i==a-1:\n",
        "                nums[:]=nums[1:]\n",
        "                count+=1\n",
        "        return a-count"
      ],
      "execution_count": 2,
      "outputs": []
    },
    {
      "cell_type": "code",
      "metadata": {
        "id": "zocIOeN5MUSg"
      },
      "source": [
        "class Solution:\n",
        "    def removeElement(self, nums: List[int], val: int) -> int:\n",
        "        slow=0\n",
        "        for fast in range(len(nums)):\n",
        "            if nums[fast]!=val:\n",
        "                nums[slow]=nums[fast]\n",
        "                slow+=1\n",
        "\n",
        "        return slow"
      ],
      "execution_count": null,
      "outputs": []
    }
  ]
}