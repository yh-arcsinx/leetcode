{
  "nbformat": 4,
  "nbformat_minor": 0,
  "metadata": {
    "colab": {
      "name": "35. 搜索插入位置.ipynb",
      "provenance": [],
      "authorship_tag": "ABX9TyPFZeNlWZ6Yhjez1HG/3aea",
      "include_colab_link": true
    },
    "kernelspec": {
      "name": "python3",
      "display_name": "Python 3"
    },
    "language_info": {
      "name": "python"
    }
  },
  "cells": [
    {
      "cell_type": "markdown",
      "metadata": {
        "id": "view-in-github",
        "colab_type": "text"
      },
      "source": [
        "<a href=\"https://colab.research.google.com/github/yh-arcsinx/leetcode/blob/master/35_%E6%90%9C%E7%B4%A2%E6%8F%92%E5%85%A5%E4%BD%8D%E7%BD%AE.ipynb\" target=\"_parent\"><img src=\"https://colab.research.google.com/assets/colab-badge.svg\" alt=\"Open In Colab\"/></a>"
      ]
    },
    {
      "cell_type": "code",
      "metadata": {
        "id": "_wE9fy6gnJl3"
      },
      "source": [
        "class Solution:\n",
        "    def searchInsert(self, nums: List[int], target: int) -> int:\n",
        "        start = 0\n",
        "        end = len(nums) - 1\n",
        "        while start <= end:\n",
        "            middle = (start + end) // 2\n",
        "            if nums[middle] > target:\n",
        "                end = middle -1\n",
        "            elif nums[middle] < target:\n",
        "                start = middle + 1\n",
        "            elif nums[middle]  == target:\n",
        "                return middle\n",
        "        return end + 1"
      ],
      "execution_count": null,
      "outputs": []
    }
  ]
}