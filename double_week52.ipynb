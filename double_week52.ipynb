{
  "nbformat": 4,
  "nbformat_minor": 0,
  "metadata": {
    "colab": {
      "name": "double week52.ipynb",
      "provenance": [],
      "collapsed_sections": [],
      "authorship_tag": "ABX9TyOKywTTr3lPCZxT9c6z8kzh",
      "include_colab_link": true
    },
    "kernelspec": {
      "name": "python3",
      "display_name": "Python 3"
    },
    "language_info": {
      "name": "python"
    }
  },
  "cells": [
    {
      "cell_type": "markdown",
      "metadata": {
        "id": "view-in-github",
        "colab_type": "text"
      },
      "source": [
        "<a href=\"https://colab.research.google.com/github/yh-arcsinx/leetcode/blob/master/double_week52.ipynb\" target=\"_parent\"><img src=\"https://colab.research.google.com/assets/colab-badge.svg\" alt=\"Open In Colab\"/></a>"
      ]
    },
    {
      "cell_type": "code",
      "metadata": {
        "id": "ZBc5LlnWc5-4"
      },
      "source": [
        "class Solution:\n",
        "    def sortSentence(self, s: str) -> str:\n",
        "        slow=0\n",
        "        hash={}\n",
        "        list1=[]\n",
        "        for fast in range(len(s)):\n",
        "            if s[fast].isdigit():\n",
        "                hash[s[fast]]=s[slow:fast]\n",
        "                slow=fast+2\n",
        "        for i in range(len(hash)):\n",
        "            list1.append(hash[str(i+1)])\n",
        "\n",
        "        return \" \".join(list1)"
      ],
      "execution_count": null,
      "outputs": []
    },
    {
      "cell_type": "code",
      "metadata": {
        "colab": {
          "base_uri": "https://localhost:8080/"
        },
        "id": "UgFS2HLaeTDq",
        "outputId": "ab1bad30-2432-4c19-8075-580f43f6ae69"
      },
      "source": [
        "print(Solution().sortSentence(s = \"is2 sentence4 This1 a3\"))"
      ],
      "execution_count": null,
      "outputs": [
        {
          "output_type": "stream",
          "text": [
            "This is a sentence\n"
          ],
          "name": "stdout"
        }
      ]
    },
    {
      "cell_type": "code",
      "metadata": {
        "id": "JlUYCKLGeca1"
      },
      "source": [
        "s = \"is2 sentence4 This1 a3\""
      ],
      "execution_count": null,
      "outputs": []
    },
    {
      "cell_type": "code",
      "metadata": {
        "id": "Dg2_rVHjhYsA"
      },
      "source": [
        "hash={}\n",
        "hash[\"1\"]=2"
      ],
      "execution_count": null,
      "outputs": []
    },
    {
      "cell_type": "code",
      "metadata": {
        "colab": {
          "base_uri": "https://localhost:8080/"
        },
        "id": "vjVP57j8hfZa",
        "outputId": "3d46d360-9471-4066-cb82-fba95408c271"
      },
      "source": [
        "print(hash)"
      ],
      "execution_count": null,
      "outputs": [
        {
          "output_type": "stream",
          "text": [
            "{1: 2}\n"
          ],
          "name": "stdout"
        }
      ]
    },
    {
      "cell_type": "code",
      "metadata": {
        "colab": {
          "base_uri": "https://localhost:8080/"
        },
        "id": "uneydC8ThiZb",
        "outputId": "a0d01507-3ca3-4b8c-c080-b1270fe7d102"
      },
      "source": [
        "len(hash)"
      ],
      "execution_count": null,
      "outputs": [
        {
          "output_type": "execute_result",
          "data": {
            "text/plain": [
              "1"
            ]
          },
          "metadata": {
            "tags": []
          },
          "execution_count": 37
        }
      ]
    },
    {
      "cell_type": "code",
      "metadata": {
        "colab": {
          "base_uri": "https://localhost:8080/"
        },
        "id": "EDLIdhg9iXqD",
        "outputId": "0ed22472-488b-418c-d966-7b1cffea9e1d"
      },
      "source": [
        "hash[str(1)]"
      ],
      "execution_count": null,
      "outputs": [
        {
          "output_type": "execute_result",
          "data": {
            "text/plain": [
              "2"
            ]
          },
          "metadata": {
            "tags": []
          },
          "execution_count": 44
        }
      ]
    },
    {
      "cell_type": "code",
      "metadata": {
        "id": "0Ln26BDOj5Jw"
      },
      "source": [
        "from typing import List"
      ],
      "execution_count": null,
      "outputs": []
    },
    {
      "cell_type": "code",
      "metadata": {
        "id": "BYCQx2OsiwdD"
      },
      "source": [
        "class Solution:\n",
        "    def memLeak(self, memory1: int, memory2: int) -> List[int]:\n",
        "        i=1\n",
        "\n",
        "        while i:\n",
        "            if memory1>=memory2:\n",
        "                memory1-=i\n",
        "            else:\n",
        "                memory2-=i\n",
        "            if memory1<0 or memory2<0:\n",
        "                break\n",
        "\n",
        "            i+=1\n",
        "        if memory1<0:\n",
        "            return [i,memory1+i,memory2]        \n",
        "        if memory2<0:\n",
        "            return [i,memory1,memory2+i]\n",
        "\n",
        "\n",
        "\n"
      ],
      "execution_count": null,
      "outputs": []
    },
    {
      "cell_type": "code",
      "metadata": {
        "colab": {
          "base_uri": "https://localhost:8080/"
        },
        "id": "wU0PBitClEN7",
        "outputId": "050170e6-3938-46aa-bd72-4758adb9f590"
      },
      "source": [
        "print(Solution().memLeak(memory1 = 2, memory2 = 2))"
      ],
      "execution_count": null,
      "outputs": [
        {
          "output_type": "stream",
          "text": [
            "[3, 1, 0]\n"
          ],
          "name": "stdout"
        }
      ]
    },
    {
      "cell_type": "code",
      "metadata": {
        "id": "j-C2SPX1lKI_"
      },
      "source": [
        "class Solution:\n",
        "    def rotateTheBox(self, box: List[List[str]]) -> List[List[str]]:"
      ],
      "execution_count": null,
      "outputs": []
    },
    {
      "cell_type": "code",
      "metadata": {
        "id": "xlm7UZKcmqAl"
      },
      "source": [
        "a=[[1,2,3],[4,5,6],[7,8,9]]\n"
      ],
      "execution_count": null,
      "outputs": []
    },
    {
      "cell_type": "code",
      "metadata": {
        "id": "Ybf-OMjnm1RU"
      },
      "source": [
        "box = [[\"#\",\"#\",\"*\",\".\",\"*\",\".\"],\n",
        "            [\"#\",\"#\",\"#\",\"*\",\".\",\".\"],\n",
        "            [\"#\",\"#\",\"#\",\".\",\"#\",\".\"]]"
      ],
      "execution_count": 32,
      "outputs": []
    },
    {
      "cell_type": "code",
      "metadata": {
        "colab": {
          "base_uri": "https://localhost:8080/"
        },
        "id": "u9RkKDx6oFWh",
        "outputId": "18947196-23fa-4d00-e2c0-dcb41874494d"
      },
      "source": [
        "a=len(box)\n",
        "b=len(box[1])\n",
        "for i in range(a):\n",
        "\n",
        "    num=0\n",
        "    for j in range(b):\n",
        "\n",
        "        if box[i][j]==\"#\":\n",
        "            num+=1\n",
        "        elif box[i][j]==\"*\":\n",
        "            for k in range(num):\n",
        "                box[i][j-k-1]=\"!\"\n",
        "            num=0\n",
        "        elif j==b-1:\n",
        "            for k in range(num):\n",
        "                box[i][j-k]=\"!\"\n",
        "            num=0\n",
        "\n"
      ],
      "execution_count": 33,
      "outputs": [
        {
          "output_type": "stream",
          "text": [
            "[['!', '!', '*', '.', '*', '.'], ['!', '!', '!', '*', '.', '.'], ['#', '#', '!', '!', '!', '!']]\n"
          ],
          "name": "stdout"
        }
      ]
    },
    {
      "cell_type": "code",
      "metadata": {
        "id": "fwHrWnvYnbus"
      },
      "source": [
        "box2=[[0 for j in range(len(box))] for i in range(len(box[1]))]"
      ],
      "execution_count": 34,
      "outputs": []
    },
    {
      "cell_type": "code",
      "metadata": {
        "id": "dTbwgsFymwwp"
      },
      "source": [
        "for i in range(len(box)):\n",
        "    for j in range(len(box[1])):\n",
        "        if box[i][j]==\"#\":\n",
        "            box[i][j]=\".\"\n",
        "        if box[i][j]==\"!\":\n",
        "            box[i][j]=\"#\"\n",
        "        box2[j][i]=box[i][j]"
      ],
      "execution_count": 35,
      "outputs": []
    },
    {
      "cell_type": "code",
      "metadata": {
        "colab": {
          "base_uri": "https://localhost:8080/"
        },
        "id": "ZnPzBnqLmxS_",
        "outputId": "6f160c27-f2e0-48f1-c90b-09960e6cc55f"
      },
      "source": [
        "print(box2)"
      ],
      "execution_count": 36,
      "outputs": [
        {
          "output_type": "stream",
          "text": [
            "[['#', '#', '.'], ['#', '#', '.'], ['*', '#', '#'], ['.', '*', '#'], ['*', '.', '#'], ['.', '.', '#']]\n"
          ],
          "name": "stdout"
        }
      ]
    },
    {
      "cell_type": "code",
      "metadata": {
        "colab": {
          "base_uri": "https://localhost:8080/"
        },
        "id": "wnRX--HVDRUy",
        "outputId": "26ceb687-a3f0-4646-f393-c690674cd0f4"
      },
      "source": [
        "\n",
        "print(box)"
      ],
      "execution_count": 37,
      "outputs": [
        {
          "output_type": "stream",
          "text": [
            "[['#', '#', '*', '.', '*', '.'], ['#', '#', '#', '*', '.', '.'], ['.', '.', '#', '#', '#', '#']]\n"
          ],
          "name": "stdout"
        }
      ]
    },
    {
      "cell_type": "code",
      "metadata": {
        "id": "RHqJSduekK8z"
      },
      "source": [
        ""
      ],
      "execution_count": null,
      "outputs": []
    }
  ]
}