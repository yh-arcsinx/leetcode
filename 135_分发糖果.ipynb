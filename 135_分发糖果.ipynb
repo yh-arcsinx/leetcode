{
  "nbformat": 4,
  "nbformat_minor": 0,
  "metadata": {
    "colab": {
      "name": "135. 分发糖果.ipynb",
      "provenance": [],
      "collapsed_sections": [],
      "authorship_tag": "ABX9TyMw0usbL/9K2VL8z6/EXAHM",
      "include_colab_link": true
    },
    "kernelspec": {
      "name": "python3",
      "display_name": "Python 3"
    },
    "language_info": {
      "name": "python"
    }
  },
  "cells": [
    {
      "cell_type": "markdown",
      "metadata": {
        "id": "view-in-github",
        "colab_type": "text"
      },
      "source": [
        "<a href=\"https://colab.research.google.com/github/yh-arcsinx/leetcode/blob/master/135_%E5%88%86%E5%8F%91%E7%B3%96%E6%9E%9C.ipynb\" target=\"_parent\"><img src=\"https://colab.research.google.com/assets/colab-badge.svg\" alt=\"Open In Colab\"/></a>"
      ]
    },
    {
      "cell_type": "code",
      "metadata": {
        "id": "g1ffluukSmUQ"
      },
      "source": [
        "from typing import List"
      ],
      "execution_count": 1,
      "outputs": []
    },
    {
      "cell_type": "code",
      "metadata": {
        "id": "ffQUHpwQPIb0"
      },
      "source": [
        "class Solution:\n",
        "    def candy(self, ratings: List[int]) -> int:\n",
        "        a=len(ratings)\n",
        "        if a==None:\n",
        "            return 0\n",
        "        elif a==1:\n",
        "            return 1\n",
        "        candies=[1]*a\n",
        "        for i in range(a-1):\n",
        "            if ratings[i]<ratings[i+1]:\n",
        "                candies[i+1]=candies[i]+1\n",
        "        for i in range(a-1,0,-1):\n",
        "            if ratings[i-1]>ratings[i] and candies[i-1]<=candies[i]:\n",
        "                candies[i-1]=candies[i]+1\n",
        "        # return candies\n",
        "        return sum(candies)"
      ],
      "execution_count": 16,
      "outputs": []
    },
    {
      "cell_type": "code",
      "metadata": {
        "colab": {
          "base_uri": "https://localhost:8080/"
        },
        "id": "a7o0VQmOSocg",
        "outputId": "e21ef709-a63f-4eb3-8656-408f74965f23"
      },
      "source": [
        "print(Solution().candy([1,2,3,3,2,1]))"
      ],
      "execution_count": 17,
      "outputs": [
        {
          "output_type": "stream",
          "text": [
            "[1, 2, 3, 3, 2, 1]\n"
          ],
          "name": "stdout"
        }
      ]
    },
    {
      "cell_type": "code",
      "metadata": {
        "id": "FFufjmMEUeKe"
      },
      "source": [
        ""
      ],
      "execution_count": null,
      "outputs": []
    }
  ]
}