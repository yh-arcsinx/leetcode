{
  "nbformat": 4,
  "nbformat_minor": 0,
  "metadata": {
    "colab": {
      "name": "9.caculate.ipynb",
      "provenance": [],
      "collapsed_sections": [],
      "authorship_tag": "ABX9TyPuuRl2UPbHKnq7w/4gZuGg",
      "include_colab_link": true
    },
    "kernelspec": {
      "name": "python3",
      "display_name": "Python 3"
    },
    "language_info": {
      "name": "python"
    }
  },
  "cells": [
    {
      "cell_type": "markdown",
      "metadata": {
        "id": "view-in-github",
        "colab_type": "text"
      },
      "source": [
        "<a href=\"https://colab.research.google.com/github/yh-arcsinx/leetcode/blob/master/9_caculate.ipynb\" target=\"_parent\"><img src=\"https://colab.research.google.com/assets/colab-badge.svg\" alt=\"Open In Colab\"/></a>"
      ]
    },
    {
      "cell_type": "code",
      "metadata": {
        "id": "98UhKKO5BeMy"
      },
      "source": [
        "class Solution:\n",
        "\tdef isPalindrome(self, x: int) -> bool:\n",
        "\t\tj = 0\n",
        "\t\tif x < 0 or (x % 10 == 0 and x != 0):\n",
        "\t\t\treturn False\n",
        "\t\twhile x > j:\n",
        "\t\t\tj = x % 10 + 10 * j\n",
        "\t\t\tx = x // 10\n",
        "\t\tif j == x or j//10 == x:\n",
        "\t\t\treturn True\n",
        "\t\treturn False"
      ],
      "execution_count": 3,
      "outputs": []
    },
    {
      "cell_type": "code",
      "metadata": {
        "colab": {
          "base_uri": "https://localhost:8080/"
        },
        "id": "-fqZK5Xm_zJK",
        "outputId": "5bb78b29-75e0-4c4f-e91a-438d38bd7a42"
      },
      "source": [
        "s = Solution()\n",
        "print(s.isPalindrome(1234321))"
      ],
      "execution_count": 6,
      "outputs": [
        {
          "output_type": "stream",
          "text": [
            "True\n"
          ],
          "name": "stdout"
        }
      ]
    },
    {
      "cell_type": "code",
      "metadata": {
        "id": "bagrNkvLARaV",
        "colab": {
          "base_uri": "https://localhost:8080/"
        },
        "outputId": "b516b616-93d1-45e6-ab94-17d4b53104c9"
      },
      "source": [
        "a = 1234\n",
        "b = a//10\n",
        "x= \"123\"\n",
        "print(b)"
      ],
      "execution_count": 2,
      "outputs": [
        {
          "output_type": "stream",
          "text": [
            "123\n"
          ],
          "name": "stdout"
        }
      ]
    },
    {
      "cell_type": "code",
      "metadata": {
        "id": "5n2Nn-pFBgLq"
      },
      "source": [
        "y =y+x[1]"
      ],
      "execution_count": null,
      "outputs": []
    },
    {
      "cell_type": "code",
      "metadata": {
        "colab": {
          "base_uri": "https://localhost:8080/"
        },
        "id": "d9syG94dKp3z",
        "outputId": "b62c4f73-35d4-4f81-9ee9-37a9bc6d61a4"
      },
      "source": [
        "print(y)"
      ],
      "execution_count": null,
      "outputs": [
        {
          "output_type": "stream",
          "text": [
            "2\n"
          ],
          "name": "stdout"
        }
      ]
    },
    {
      "cell_type": "code",
      "metadata": {
        "id": "F9O9ZqZULHXx"
      },
      "source": [
        ""
      ],
      "execution_count": null,
      "outputs": []
    }
  ]
}