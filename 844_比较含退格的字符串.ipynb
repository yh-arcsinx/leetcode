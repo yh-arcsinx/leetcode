{
  "nbformat": 4,
  "nbformat_minor": 0,
  "metadata": {
    "colab": {
      "name": "844. 比较含退格的字符串.ipynb",
      "provenance": [],
      "authorship_tag": "ABX9TyNbTh1ljprvqKnXgrtvUKF5",
      "include_colab_link": true
    },
    "kernelspec": {
      "name": "python3",
      "display_name": "Python 3"
    },
    "language_info": {
      "name": "python"
    }
  },
  "cells": [
    {
      "cell_type": "markdown",
      "metadata": {
        "id": "view-in-github",
        "colab_type": "text"
      },
      "source": [
        "<a href=\"https://colab.research.google.com/github/yh-arcsinx/leetcode/blob/master/844_%E6%AF%94%E8%BE%83%E5%90%AB%E9%80%80%E6%A0%BC%E7%9A%84%E5%AD%97%E7%AC%A6%E4%B8%B2.ipynb\" target=\"_parent\"><img src=\"https://colab.research.google.com/assets/colab-badge.svg\" alt=\"Open In Colab\"/></a>"
      ]
    },
    {
      "cell_type": "code",
      "metadata": {
        "id": "jxNrcM1bkB_q"
      },
      "source": [
        "class Solution:\n",
        "    def backspaceCompare(self, s: str, t: str) -> bool:\n",
        "        \"\"\"双指针\"\"\"\n",
        "        skip1=0\n",
        "        skip2=0\n",
        "        i = len(s) - 1\n",
        "        j = len(t) - 1\n",
        "        while i >=0 or j >=0:\n",
        "            # print(\"i,j\",i,j)\n",
        "            while i>=0:\n",
        "                if s[i]==\"#\":\n",
        "                    i-=1\n",
        "                    skip1+=1\n",
        "                elif skip1 !=0:\n",
        "                    i-=1\n",
        "                    skip1-=1\n",
        "                else:\n",
        "                    break\n",
        "\n",
        "            while j>=0:\n",
        "                if t[j]==\"#\":\n",
        "                    j-=1\n",
        "                    skip2+=1\n",
        "                elif skip2 !=0:\n",
        "                    j-=1\n",
        "                    skip2-=1\n",
        "                else:\n",
        "                    break\n",
        "            #print(i,j,\"ij\")\n",
        "            if i>=0 and j>=0:\n",
        "                if s[i]!=t[j]:\n",
        "                    return False\n",
        "            elif i>=0 or j >=0:\n",
        "                return False\n",
        "            j-=1\n",
        "            i-=1\n",
        "        return True        \n",
        "          "
      ],
      "execution_count": 8,
      "outputs": []
    },
    {
      "cell_type": "code",
      "metadata": {
        "colab": {
          "base_uri": "https://localhost:8080/"
        },
        "id": "njIrqxyekcDb",
        "outputId": "81fe83f1-3742-425c-e11e-789b4565e952"
      },
      "source": [
        "print(Solution().backspaceCompare(s = \"ab#c\", t = \"ad#c\"))"
      ],
      "execution_count": 9,
      "outputs": [
        {
          "output_type": "stream",
          "text": [
            "i,j 3 3\n",
            "3 3 ij\n",
            "i,j 2 2\n",
            "0 0 ij\n",
            "True\n"
          ],
          "name": "stdout"
        }
      ]
    },
    {
      "cell_type": "code",
      "metadata": {
        "id": "hNoeNgTckolk"
      },
      "source": [
        "class Solution:\n",
        "    def backspaceCompare(self, s: str, t: str) -> bool:\n",
        "        \"\"\"函数查找同位置最小\"\"\"\n",
        "         \n",
        "        def changeS(s):\n",
        "            list1=[]\n",
        "            for i in s:\n",
        "                if i != \"#\":\n",
        "                    list1.append(i)\n",
        "                elif list1:\n",
        "                    list1.pop(-1)\n",
        "            return list1\n",
        "\n",
        "\n",
        "        return changeS(s) == changeS(t)           "
      ],
      "execution_count": null,
      "outputs": []
    }
  ]
}