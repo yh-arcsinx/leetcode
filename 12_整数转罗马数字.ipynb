{
  "nbformat": 4,
  "nbformat_minor": 0,
  "metadata": {
    "colab": {
      "name": "12. 整数转罗马数字.ipynb",
      "provenance": [],
      "authorship_tag": "ABX9TyP4A8pWCieMUcjoXqUejVEV",
      "include_colab_link": true
    },
    "kernelspec": {
      "name": "python3",
      "display_name": "Python 3"
    },
    "language_info": {
      "name": "python"
    }
  },
  "cells": [
    {
      "cell_type": "markdown",
      "metadata": {
        "id": "view-in-github",
        "colab_type": "text"
      },
      "source": [
        "<a href=\"https://colab.research.google.com/github/yh-arcsinx/leetcode/blob/master/12_%E6%95%B4%E6%95%B0%E8%BD%AC%E7%BD%97%E9%A9%AC%E6%95%B0%E5%AD%97.ipynb\" target=\"_parent\"><img src=\"https://colab.research.google.com/assets/colab-badge.svg\" alt=\"Open In Colab\"/></a>"
      ]
    },
    {
      "cell_type": "code",
      "metadata": {
        "id": "LLE0qa4Rsacn"
      },
      "source": [
        "class Solution:\n",
        "    def intToRoman(self, num: int) -> str:\n",
        "        dict1=[(1000,\"M\"),(900,\"CM\"),(500,\"D\"),(400,\"CD\"),(100,\"C\"),(90,\"XC\"),(50,\"L\"),(40,\"XL\"),(10,\"X\"),(9,\"IX\"),(5,\"V\"),(4,\"IV\"),(1,\"I\")]\n",
        "        list1=[]\n",
        "        for i , j in dict1:\n",
        "            for k in range(num//i):\n",
        "                list1.append(j)\n",
        "            num=num%i\n",
        "\n",
        "    \n",
        "        strings=''.join(list1)\n",
        "        return strings"
      ],
      "execution_count": null,
      "outputs": []
    }
  ]
}