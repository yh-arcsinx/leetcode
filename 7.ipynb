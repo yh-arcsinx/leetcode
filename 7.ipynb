{
  "nbformat": 4,
  "nbformat_minor": 0,
  "metadata": {
    "colab": {
      "name": "7",
      "provenance": [],
      "collapsed_sections": [],
      "authorship_tag": "ABX9TyPo4Yy7mSeINUfZZrL1LtRg"
    },
    "kernelspec": {
      "name": "python3",
      "display_name": "Python 3"
    },
    "language_info": {
      "name": "python"
    }
  },
  "cells": [
    {
      "cell_type": "code",
      "metadata": {
        "id": "M4lLdbD5gJKx"
      },
      "source": [
        "x=123\n"
      ],
      "execution_count": null,
      "outputs": []
    },
    {
      "cell_type": "code",
      "metadata": {
        "colab": {
          "base_uri": "https://localhost:8080/"
        },
        "id": "jKsjKUcagLKk",
        "outputId": "ee539807-88e6-426d-d631-28a6f8975a04"
      },
      "source": [
        "len(str(x))"
      ],
      "execution_count": null,
      "outputs": [
        {
          "output_type": "execute_result",
          "data": {
            "text/plain": [
              "3"
            ]
          },
          "metadata": {
            "tags": []
          },
          "execution_count": 3
        }
      ]
    },
    {
      "cell_type": "code",
      "metadata": {
        "id": "Q6KK_OIGha4v"
      },
      "source": [
        "class Solution:\n",
        "    def reverse(self, x: int) -> int:\n",
        "        if  x<0:\n",
        "            x = abs(x)\n",
        "            i = 0\n",
        "\n",
        "            for j in range(len(str(x))):\n",
        "                i = i + (int(x / 10**j)%10)*10**(len(str(x))-j-1)\n",
        "            x = -i\n",
        "        elif  x>=0:\n",
        "            i = 0\n",
        "\n",
        "            for j in range(len(str(x))):\n",
        "                i = i + (int(x / 10**j)%10)*10**(len(str(x))-j-1)\n",
        "            x = i\n",
        "        \n",
        "        if x >= -2**31 and x<=2**31-1 :\n",
        "            return x\n",
        "        else:\n",
        "            return 0"
      ],
      "execution_count": 68,
      "outputs": []
    },
    {
      "cell_type": "code",
      "metadata": {
        "colab": {
          "base_uri": "https://localhost:8080/"
        },
        "id": "WlD8CEhcibmp",
        "outputId": "96ef914a-52aa-4d58-dac9-4dee8e92cdd3"
      },
      "source": [
        "x=1534236469\n",
        "s=Solution()\n",
        "\n",
        "print(s.reverse(x))"
      ],
      "execution_count": 70,
      "outputs": [
        {
          "output_type": "stream",
          "text": [
            "9646324351\n"
          ],
          "name": "stdout"
        }
      ]
    },
    {
      "cell_type": "code",
      "metadata": {
        "id": "jQ7G12OBi40E"
      },
      "source": [
        "x=12\n",
        "i=0\n",
        "for j in range(len(str(x))):\n",
        "    i = i + (int(x / 10**j)%10)*10**(len(str(x))-j-1)\n",
        "x = i"
      ],
      "execution_count": 54,
      "outputs": []
    },
    {
      "cell_type": "code",
      "metadata": {
        "id": "pTjVk14slJ0m",
        "colab": {
          "base_uri": "https://localhost:8080/"
        },
        "outputId": "f6c344b9-86fa-4deb-d931-10c6935e1a1b"
      },
      "source": [
        "x=-12\n",
        "int(x / 10**j)%10\n",
        "\n"
      ],
      "execution_count": 67,
      "outputs": [
        {
          "output_type": "execute_result",
          "data": {
            "text/plain": [
              "9"
            ]
          },
          "metadata": {
            "tags": []
          },
          "execution_count": 67
        }
      ]
    },
    {
      "cell_type": "code",
      "metadata": {
        "colab": {
          "base_uri": "https://localhost:8080/"
        },
        "id": "DE8zSetsTRcR",
        "outputId": "dc57b0d9-035c-4121-bb26-5252f3200a92"
      },
      "source": [
        "x=12\n",
        "10**(len(str(x))-1-1)"
      ],
      "execution_count": 41,
      "outputs": [
        {
          "output_type": "execute_result",
          "data": {
            "text/plain": [
              "1"
            ]
          },
          "metadata": {
            "tags": []
          },
          "execution_count": 41
        }
      ]
    },
    {
      "cell_type": "code",
      "metadata": {
        "id": "sLhBoHgxTjrQ"
      },
      "source": [
        ""
      ],
      "execution_count": null,
      "outputs": []
    }
  ]
}