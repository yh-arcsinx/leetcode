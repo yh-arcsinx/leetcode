{
  "nbformat": 4,
  "nbformat_minor": 0,
  "metadata": {
    "colab": {
      "name": "1720.解码异或后的数组.ipynb",
      "provenance": [],
      "collapsed_sections": [],
      "authorship_tag": "ABX9TyM1emiMzPkfkFNPiXUKbIrl",
      "include_colab_link": true
    },
    "kernelspec": {
      "name": "python3",
      "display_name": "Python 3"
    },
    "language_info": {
      "name": "python"
    }
  },
  "cells": [
    {
      "cell_type": "markdown",
      "metadata": {
        "id": "view-in-github",
        "colab_type": "text"
      },
      "source": [
        "<a href=\"https://colab.research.google.com/github/yh-arcsinx/leetcode/blob/master/1720_%E8%A7%A3%E7%A0%81%E5%BC%82%E6%88%96%E5%90%8E%E7%9A%84%E6%95%B0%E7%BB%84.ipynb\" target=\"_parent\"><img src=\"https://colab.research.google.com/assets/colab-badge.svg\" alt=\"Open In Colab\"/></a>"
      ]
    },
    {
      "cell_type": "code",
      "metadata": {
        "id": "6x-3h-5vboBs"
      },
      "source": [
        "from typing import List"
      ],
      "execution_count": 1,
      "outputs": []
    },
    {
      "cell_type": "code",
      "metadata": {
        "id": "Z3-uNzXxb2Qt"
      },
      "source": [
        "class Solution:\n",
        "    def decode(self, encoded: List[int], first: int) -> List[int]:\n",
        "        arr = [first]\n",
        "        for i in range(len(encoded)):\n",
        "            arr.append(arr[i]^encoded[i])\n",
        "        return arr"
      ],
      "execution_count": 4,
      "outputs": []
    },
    {
      "cell_type": "code",
      "metadata": {
        "id": "o2_4UsWRcy5P"
      },
      "source": [
        "class Solution:\n",
        "    def decode(self, encoded: List[int], first: int) -> List[int]:\n",
        "        arr = [first]\n",
        "        for i in encoded:\n",
        "            arr.append(arr[-1]^i)\n",
        "        return arr"
      ],
      "execution_count": 7,
      "outputs": []
    },
    {
      "cell_type": "code",
      "metadata": {
        "colab": {
          "base_uri": "https://localhost:8080/"
        },
        "id": "EXhWvL7lcqyW",
        "outputId": "e20672c1-f632-4fc5-c531-2a572394d727"
      },
      "source": [
        "print(Solution().decode(encoded = [6,2,7,3], first = 4))"
      ],
      "execution_count": 8,
      "outputs": [
        {
          "output_type": "stream",
          "text": [
            "[4, 2, 0, 7, 4]\n"
          ],
          "name": "stdout"
        }
      ]
    },
    {
      "cell_type": "code",
      "metadata": {
        "id": "RZG-_w6vdkR0"
      },
      "source": [
        ""
      ],
      "execution_count": null,
      "outputs": []
    }
  ]
}