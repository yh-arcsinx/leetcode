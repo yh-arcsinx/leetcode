{
  "nbformat": 4,
  "nbformat_minor": 0,
  "metadata": {
    "colab": {
      "name": "1870. 准时到达的列车最小时速.ipynb",
      "provenance": [],
      "authorship_tag": "ABX9TyODLf4LLWbvNkOG4LW0Emxr",
      "include_colab_link": true
    },
    "kernelspec": {
      "name": "python3",
      "display_name": "Python 3"
    },
    "language_info": {
      "name": "python"
    }
  },
  "cells": [
    {
      "cell_type": "markdown",
      "metadata": {
        "id": "view-in-github",
        "colab_type": "text"
      },
      "source": [
        "<a href=\"https://colab.research.google.com/github/yh-arcsinx/leetcode/blob/master/1870_%E5%87%86%E6%97%B6%E5%88%B0%E8%BE%BE%E7%9A%84%E5%88%97%E8%BD%A6%E6%9C%80%E5%B0%8F%E6%97%B6%E9%80%9F.ipynb\" target=\"_parent\"><img src=\"https://colab.research.google.com/assets/colab-badge.svg\" alt=\"Open In Colab\"/></a>"
      ]
    },
    {
      "cell_type": "code",
      "metadata": {
        "id": "5cy0Sw2HNCUY"
      },
      "source": [
        "a=69*100/round(4.6*100)\n"
      ],
      "execution_count": 25,
      "outputs": []
    },
    {
      "cell_type": "code",
      "metadata": {
        "id": "RiGpBB41NIrf"
      },
      "source": [
        "from math import ceil"
      ],
      "execution_count": 3,
      "outputs": []
    },
    {
      "cell_type": "code",
      "metadata": {
        "id": "ueuB-lxKNXs5"
      },
      "source": [
        "h=4.6*100"
      ],
      "execution_count": 20,
      "outputs": []
    },
    {
      "cell_type": "code",
      "metadata": {
        "id": "TjWLs3GgPU8S"
      },
      "source": [
        "from decimal import *"
      ],
      "execution_count": 12,
      "outputs": []
    },
    {
      "cell_type": "code",
      "metadata": {
        "colab": {
          "base_uri": "https://localhost:8080/"
        },
        "id": "PRwsHCKaPltt",
        "outputId": "c93c9436-29c0-4c6a-d2dd-2341634947fa"
      },
      "source": [
        "print(a)"
      ],
      "execution_count": 26,
      "outputs": [
        {
          "output_type": "stream",
          "text": [
            "15.0\n"
          ],
          "name": "stdout"
        }
      ]
    },
    {
      "cell_type": "code",
      "metadata": {
        "colab": {
          "base_uri": "https://localhost:8080/"
        },
        "id": "2X0_7edsQ1-F",
        "outputId": "08e20e94-40c6-4279-885d-a49dffc359a9"
      },
      "source": [
        ""
      ],
      "execution_count": 23,
      "outputs": [
        {
          "output_type": "stream",
          "text": [
            "459.99999999999994\n"
          ],
          "name": "stdout"
        }
      ]
    },
    {
      "cell_type": "code",
      "metadata": {
        "colab": {
          "base_uri": "https://localhost:8080/"
        },
        "id": "_QML1UpdQ_17",
        "outputId": "e821d5d5-6fd6-4cb8-dbe6-47a41ee58533"
      },
      "source": [
        "h=4.6*100\n",
        "print(h)"
      ],
      "execution_count": 24,
      "outputs": [
        {
          "output_type": "stream",
          "text": [
            "459.99999999999994\n"
          ],
          "name": "stdout"
        }
      ]
    },
    {
      "cell_type": "code",
      "metadata": {
        "id": "SLVKq4tlREYV"
      },
      "source": [
        "class Solution:\n",
        "    def minSpeedOnTime(self, dist: List[int], hour: float) -> int:\n",
        "        n=len(dist)\n",
        "        if n==1:\n",
        "            a=math.ceil(dist[0]*100/round(hour*100))\n",
        "            return a\n",
        "        if n >= hour+1:\n",
        "            return -1\n",
        "        sum1=sum(dist)\n",
        "        v=math.ceil(sum1/hour)\n",
        "        start=v\n",
        "        if hour%1==0:\n",
        "            end=max(dist)\n",
        "        else:\n",
        "            end=max(dist)/(hour%1)\n",
        "        \n",
        "        while start<end:\n",
        "            v=(start+end)//2\n",
        "            num=0\n",
        "            for i in range((len(dist))-1):\n",
        "                num+=math.ceil(dist[i]/v)\n",
        "            else:\n",
        "                i+=1\n",
        "                num+=dist[i]/v\n",
        "            if num<=hour:\n",
        "                end=v\n",
        "            else:\n",
        "                start=v+1\n",
        "        return int(start)\n",
        "        # dist.sort(reverse=True)\n",
        "        # time = floor(hour+1)-n\n",
        "        # if time==0:\n",
        "        #     return max(dist[-1]/(hour-floor(hour)),dist[0])\n",
        "        # else:\n",
        "\n"
      ],
      "execution_count": null,
      "outputs": []
    }
  ]
}