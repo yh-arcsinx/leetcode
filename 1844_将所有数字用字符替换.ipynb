{
  "nbformat": 4,
  "nbformat_minor": 0,
  "metadata": {
    "colab": {
      "name": "1844. 将所有数字用字符替换",
      "provenance": [],
      "collapsed_sections": [],
      "authorship_tag": "ABX9TyMn9csLId+XathLRV5e8YV5",
      "include_colab_link": true
    },
    "kernelspec": {
      "name": "python3",
      "display_name": "Python 3"
    },
    "language_info": {
      "name": "python"
    }
  },
  "cells": [
    {
      "cell_type": "markdown",
      "metadata": {
        "id": "view-in-github",
        "colab_type": "text"
      },
      "source": [
        "<a href=\"https://colab.research.google.com/github/yh-arcsinx/leetcode/blob/master/1844_%E5%B0%86%E6%89%80%E6%9C%89%E6%95%B0%E5%AD%97%E7%94%A8%E5%AD%97%E7%AC%A6%E6%9B%BF%E6%8D%A2.ipynb\" target=\"_parent\"><img src=\"https://colab.research.google.com/assets/colab-badge.svg\" alt=\"Open In Colab\"/></a>"
      ]
    },
    {
      "cell_type": "code",
      "metadata": {
        "id": "dg1IA7oVWcLY"
      },
      "source": [
        "class Solution:\n",
        "    def replaceDigits(self, s: str) -> str:\n",
        "        strings=\"abcdefghijklmnopqrstuvwxyz\"\n",
        "        for i in range(len(s)):\n",
        "            if i%2==1:\n",
        "                s=s[:i]+strings[strings.find(s[i-1])+int(s[i])]+s[i+1:]\n",
        "        return s"
      ],
      "execution_count": 11,
      "outputs": []
    },
    {
      "cell_type": "code",
      "metadata": {
        "colab": {
          "base_uri": "https://localhost:8080/"
        },
        "id": "_TqzRYKpXYVb",
        "outputId": "6da0172d-f180-4ffb-9139-146f5fc7c303"
      },
      "source": [
        "print(Solution().replaceDigits(s = \"a1c1e1\"))"
      ],
      "execution_count": 12,
      "outputs": [
        {
          "output_type": "stream",
          "text": [
            "abcdef\n"
          ],
          "name": "stdout"
        }
      ]
    },
    {
      "cell_type": "code",
      "metadata": {
        "colab": {
          "base_uri": "https://localhost:8080/"
        },
        "id": "KyyMZGIJXUVT",
        "outputId": "27b833ab-93bb-45c2-9323-79a90e6fea98"
      },
      "source": [
        "strings=\"abcdefghijklmnopqrstuvwxyz\"\n",
        "strings.find(\"b\")"
      ],
      "execution_count": 7,
      "outputs": [
        {
          "output_type": "execute_result",
          "data": {
            "text/plain": [
              "1"
            ]
          },
          "metadata": {
            "tags": []
          },
          "execution_count": 7
        }
      ]
    },
    {
      "cell_type": "code",
      "metadata": {
        "id": "gQNkHSivaYYe"
      },
      "source": [
        ""
      ],
      "execution_count": null,
      "outputs": []
    }
  ]
}