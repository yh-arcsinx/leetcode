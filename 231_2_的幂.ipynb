{
  "nbformat": 4,
  "nbformat_minor": 0,
  "metadata": {
    "colab": {
      "name": "231. 2 的幂.ipynb",
      "provenance": [],
      "collapsed_sections": [],
      "authorship_tag": "ABX9TyP3eCaU8ESnk4v0vckZ7701",
      "include_colab_link": true
    },
    "kernelspec": {
      "name": "python3",
      "display_name": "Python 3"
    },
    "language_info": {
      "name": "python"
    }
  },
  "cells": [
    {
      "cell_type": "markdown",
      "metadata": {
        "id": "view-in-github",
        "colab_type": "text"
      },
      "source": [
        "<a href=\"https://colab.research.google.com/github/yh-arcsinx/leetcode/blob/master/231_2_%E7%9A%84%E5%B9%82.ipynb\" target=\"_parent\"><img src=\"https://colab.research.google.com/assets/colab-badge.svg\" alt=\"Open In Colab\"/></a>"
      ]
    },
    {
      "cell_type": "code",
      "metadata": {
        "id": "2iNZ33LlzIQu"
      },
      "source": [
        "class Solution:\n",
        "    def isPowerOfTwo(self, n: int) -> bool:\n",
        "        return n&(n-1)==0 and n>0\n",
        "\n",
        "\n",
        "\n",
        "        # if n==0:\n",
        "        #     return False\n",
        "        # while n:\n",
        "        #     if n==1:\n",
        "        #         return True\n",
        "        #     elif n%2 !=0:\n",
        "        #         return False \n",
        "        #     n=n//2\n",
        "        # return True"
      ],
      "execution_count": null,
      "outputs": []
    }
  ]
}