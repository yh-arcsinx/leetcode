{
  "nbformat": 4,
  "nbformat_minor": 0,
  "metadata": {
    "colab": {
      "name": "993. 二叉树的堂兄弟节点.ipynb",
      "provenance": [],
      "authorship_tag": "ABX9TyNZE62b4oh+/Vb3bHf4+dRl",
      "include_colab_link": true
    },
    "kernelspec": {
      "name": "python3",
      "display_name": "Python 3"
    },
    "language_info": {
      "name": "python"
    }
  },
  "cells": [
    {
      "cell_type": "markdown",
      "metadata": {
        "id": "view-in-github",
        "colab_type": "text"
      },
      "source": [
        "<a href=\"https://colab.research.google.com/github/yh-arcsinx/leetcode/blob/master/993_%E4%BA%8C%E5%8F%89%E6%A0%91%E7%9A%84%E5%A0%82%E5%85%84%E5%BC%9F%E8%8A%82%E7%82%B9.ipynb\" target=\"_parent\"><img src=\"https://colab.research.google.com/assets/colab-badge.svg\" alt=\"Open In Colab\"/></a>"
      ]
    },
    {
      "cell_type": "code",
      "metadata": {
        "id": "4Hh73BzLAQzF"
      },
      "source": [
        "# Definition for a binary tree node.\n",
        "# class TreeNode:\n",
        "#     def __init__(self, val=0, left=None, right=None):\n",
        "#         self.val = val\n",
        "#         self.left = left\n",
        "#         self.right = right\n",
        "class Solution:\n",
        "    def isCousins(self, root: TreeNode, x: int, y: int) -> bool:\n",
        "        list1=[root.left,root.right]\n",
        "        list2=[]\n",
        "        while list1:\n",
        "            while list1:\n",
        "                a=list1.pop(0)\n",
        "                if not a:\n",
        "                    continue\n",
        "                if a.val==x or a.val==y:\n",
        "                    for i in range(len(list1)):\n",
        "                        if not list1[i]:\n",
        "                            continue\n",
        "                        if list1[i].val==x or list1[i].val==y:\n",
        "                            if i!=0:\n",
        "                                return True\n",
        "                            elif i==0 and not len(list1)%2:\n",
        "                                return True\n",
        "                            else:\n",
        "                                return False\n",
        "\n",
        "                list2.append(a.left)\n",
        "                list2.append(a.right)\n",
        "            list1[:]=list2\n",
        "            list2=[]"
      ],
      "execution_count": null,
      "outputs": []
    }
  ]
}