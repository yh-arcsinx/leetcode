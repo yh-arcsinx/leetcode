{
  "nbformat": 4,
  "nbformat_minor": 0,
  "metadata": {
    "colab": {
      "name": "763. 划分字母区间.ipynb",
      "provenance": [],
      "collapsed_sections": [],
      "authorship_tag": "ABX9TyMOU9+WZyee4X5UGWeTlUdt",
      "include_colab_link": true
    },
    "kernelspec": {
      "name": "python3",
      "display_name": "Python 3"
    },
    "language_info": {
      "name": "python"
    }
  },
  "cells": [
    {
      "cell_type": "markdown",
      "metadata": {
        "id": "view-in-github",
        "colab_type": "text"
      },
      "source": [
        "<a href=\"https://colab.research.google.com/github/yh-arcsinx/leetcode/blob/master/763_%E5%88%92%E5%88%86%E5%AD%97%E6%AF%8D%E5%8C%BA%E9%97%B4.ipynb\" target=\"_parent\"><img src=\"https://colab.research.google.com/assets/colab-badge.svg\" alt=\"Open In Colab\"/></a>"
      ]
    },
    {
      "cell_type": "code",
      "metadata": {
        "id": "uyIEVlMuOfLj"
      },
      "source": [
        "from typing import List"
      ],
      "execution_count": null,
      "outputs": []
    },
    {
      "cell_type": "code",
      "metadata": {
        "id": "Qo4kAHt-OFVy"
      },
      "source": [
        "class Solution:\n",
        "    def partitionLabels(self, s: str) -> List[int]:\n",
        "        map1={}\n",
        "        for i in range(len(s)):\n",
        "            if s[i] not in map1:\n",
        "                map1[s[i]]=[i,i]\n",
        "            else:\n",
        "                map1[s[i]][1]=i\n",
        "        list1=[]\n",
        "        for i in map1:\n",
        "            list1.append(map1[i])\n",
        "            \n",
        "        list1.sort()\n",
        "        cut=[]\n",
        "        end=list1[0][1]\n",
        "        start=list1[0][0]\n",
        "        for i in range(len(list1)):\n",
        "            if end<list1[i][0]:\n",
        "                cut.append(end-start+1)\n",
        "                end=list1[i][1]\n",
        "                start=list1[i][0]\n",
        "\n",
        "            elif end>list1[i][0]:\n",
        "                end=max(end,list1[i][1])\n",
        "        cut.append(end-start+1)\n",
        "        if len(cut)==1:\n",
        "            return [len(s)]\n",
        "\n",
        "        return cut\n"
      ],
      "execution_count": 59,
      "outputs": []
    },
    {
      "cell_type": "code",
      "metadata": {
        "colab": {
          "base_uri": "https://localhost:8080/"
        },
        "id": "FKyFDQXabS9S",
        "outputId": "35e706b9-b274-4e53-d6d4-54047b0f0775"
      },
      "source": [
        "print(Solution().partitionLabels(s = \"ababcbacadefegdehijhklij\"))"
      ],
      "execution_count": 60,
      "outputs": [
        {
          "output_type": "stream",
          "text": [
            "[9, 7, 8]\n"
          ],
          "name": "stdout"
        }
      ]
    },
    {
      "cell_type": "code",
      "metadata": {
        "id": "50dyLXTpOiA_"
      },
      "source": [
        "map1={}\n",
        "map1[1]=[1,2,3,4]"
      ],
      "execution_count": 2,
      "outputs": []
    },
    {
      "cell_type": "code",
      "metadata": {
        "colab": {
          "base_uri": "https://localhost:8080/"
        },
        "id": "FuR5-fCHZz7x",
        "outputId": "b4321831-4838-4656-c791-75618493168b"
      },
      "source": [
        "print(map1)"
      ],
      "execution_count": 3,
      "outputs": [
        {
          "output_type": "stream",
          "text": [
            "{1: [1, 2, 3, 4]}\n"
          ],
          "name": "stdout"
        }
      ]
    },
    {
      "cell_type": "code",
      "metadata": {
        "id": "4cqTvEOJZ1ll"
      },
      "source": [
        "map1[1][2]=1+map1[1][2]"
      ],
      "execution_count": 4,
      "outputs": []
    },
    {
      "cell_type": "code",
      "metadata": {
        "colab": {
          "base_uri": "https://localhost:8080/"
        },
        "id": "--VVxwaTaE0J",
        "outputId": "ac07e422-a167-4cc4-9e9b-49d58d69617a"
      },
      "source": [
        "print(map1)"
      ],
      "execution_count": 5,
      "outputs": [
        {
          "output_type": "stream",
          "text": [
            "{1: [1, 2, 4, 4]}\n"
          ],
          "name": "stdout"
        }
      ]
    },
    {
      "cell_type": "code",
      "metadata": {
        "colab": {
          "base_uri": "https://localhost:8080/"
        },
        "id": "Lwa5n9IgaGRI",
        "outputId": "5a21747d-7f9d-4de8-a04d-7a4e8f2a1423"
      },
      "source": [
        "print(map1[1])"
      ],
      "execution_count": 6,
      "outputs": [
        {
          "output_type": "stream",
          "text": [
            "[1, 2, 4, 4]\n"
          ],
          "name": "stdout"
        }
      ]
    },
    {
      "cell_type": "code",
      "metadata": {
        "id": "_RmsvoElaLka"
      },
      "source": [
        ""
      ],
      "execution_count": null,
      "outputs": []
    }
  ]
}