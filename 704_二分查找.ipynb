{
  "nbformat": 4,
  "nbformat_minor": 0,
  "metadata": {
    "colab": {
      "name": "704. 二分查找.ipynb",
      "provenance": [],
      "authorship_tag": "ABX9TyPE2Vn+HzWpiHNCzPH8fglg",
      "include_colab_link": true
    },
    "kernelspec": {
      "name": "python3",
      "display_name": "Python 3"
    },
    "language_info": {
      "name": "python"
    }
  },
  "cells": [
    {
      "cell_type": "markdown",
      "metadata": {
        "id": "view-in-github",
        "colab_type": "text"
      },
      "source": [
        "<a href=\"https://colab.research.google.com/github/yh-arcsinx/leetcode/blob/master/704_%E4%BA%8C%E5%88%86%E6%9F%A5%E6%89%BE.ipynb\" target=\"_parent\"><img src=\"https://colab.research.google.com/assets/colab-badge.svg\" alt=\"Open In Colab\"/></a>"
      ]
    },
    {
      "cell_type": "code",
      "metadata": {
        "id": "QVVWIVmNtQb9"
      },
      "source": [
        "class Solution:\n",
        "    def search(self, nums: List[int], target: int) -> int:\n",
        "        start=0\n",
        "        end=len(nums)-1\n",
        "        while start < end:\n",
        "            middle = (start + end) // 2\n",
        "            if nums[middle] >= target:\n",
        "                end = middle\n",
        "            else:\n",
        "                start = middle + 1\n",
        "        if nums[start] == target:\n",
        "            return start\n",
        "        else:\n",
        "            return -1"
      ],
      "execution_count": null,
      "outputs": []
    },
    {
      "cell_type": "code",
      "metadata": {
        "id": "L9zrtMsat4CO"
      },
      "source": [
        "from typing import List"
      ],
      "execution_count": 1,
      "outputs": []
    },
    {
      "cell_type": "code",
      "metadata": {
        "id": "S_GMrw56t9m9"
      },
      "source": [
        "class Solution:\n",
        "    def search(self, nums: List[int], target: int) -> int:\n",
        "        left, right = 0, len(nums) - 1\n",
        "        \n",
        "        while left <= right:\n",
        "            middle = (left + right) // 2\n",
        "            print(\"left,right,middle\",left,right,middle)\n",
        "            if nums[middle] < target:\n",
        "                left = middle + 1\n",
        "            elif nums[middle] > target:\n",
        "                right = middle - 1\n",
        "            else:\n",
        "                return middle\n",
        "        return -1"
      ],
      "execution_count": 2,
      "outputs": []
    },
    {
      "cell_type": "code",
      "metadata": {
        "colab": {
          "base_uri": "https://localhost:8080/"
        },
        "id": "8inMUI8muHhL",
        "outputId": "605b0126-7421-4476-a281-45846594a346"
      },
      "source": [
        "print(Solution().search(nums = [5,7], target = 6))"
      ],
      "execution_count": 6,
      "outputs": [
        {
          "output_type": "stream",
          "text": [
            "left,right,middle 0 1 0\n",
            "left,right,middle 1 1 1\n",
            "-1\n"
          ],
          "name": "stdout"
        }
      ]
    },
    {
      "cell_type": "code",
      "metadata": {
        "id": "hpv6x7nPuPq-"
      },
      "source": [
        ""
      ],
      "execution_count": null,
      "outputs": []
    }
  ]
}