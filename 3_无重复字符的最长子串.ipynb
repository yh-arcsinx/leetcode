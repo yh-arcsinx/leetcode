{
  "nbformat": 4,
  "nbformat_minor": 0,
  "metadata": {
    "colab": {
      "name": "3. 无重复字符的最长子串.ipynb",
      "provenance": [],
      "authorship_tag": "ABX9TyNK0top0XDltY3T7GpPj79h",
      "include_colab_link": true
    },
    "kernelspec": {
      "name": "python3",
      "display_name": "Python 3"
    },
    "language_info": {
      "name": "python"
    }
  },
  "cells": [
    {
      "cell_type": "markdown",
      "metadata": {
        "id": "view-in-github",
        "colab_type": "text"
      },
      "source": [
        "<a href=\"https://colab.research.google.com/github/yh-arcsinx/leetcode/blob/master/3_%E6%97%A0%E9%87%8D%E5%A4%8D%E5%AD%97%E7%AC%A6%E7%9A%84%E6%9C%80%E9%95%BF%E5%AD%90%E4%B8%B2.ipynb\" target=\"_parent\"><img src=\"https://colab.research.google.com/assets/colab-badge.svg\" alt=\"Open In Colab\"/></a>"
      ]
    },
    {
      "cell_type": "code",
      "metadata": {
        "id": "ZTmZqJhCtDJl"
      },
      "source": [
        "class Solution:\n",
        "    def lengthOfLongestSubstring(self, s: str) -> int:\n",
        "        dict1={}\n",
        "        max1=0\n",
        "        n=len(s)\n",
        "        start=0\n",
        "        end=0\n",
        "        while start<n:\n",
        "            if s[start] not in dict1:\n",
        "                dict1[s[start]]=0\n",
        "                start+=1\n",
        "            else:\n",
        "                num=start-end\n",
        "                max1=max(num,max1)\n",
        "                while True:\n",
        "                    if s[end]==s[start]:\n",
        "                        del dict1[s[end]]\n",
        "                        end+=1\n",
        "                        break\n",
        "                    else:\n",
        "\n",
        "                        del dict1[s[end]]\n",
        "                        end+=1\n",
        "        num=start-end\n",
        "        max1=max(num,max1)\n",
        "        return max1\n"
      ],
      "execution_count": null,
      "outputs": []
    }
  ]
}