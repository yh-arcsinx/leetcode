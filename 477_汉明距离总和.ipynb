{
  "nbformat": 4,
  "nbformat_minor": 0,
  "metadata": {
    "colab": {
      "name": "477. 汉明距离总和.ipynb",
      "provenance": [],
      "authorship_tag": "ABX9TyOG61VVb1t91nJPqvtrElKR",
      "include_colab_link": true
    },
    "kernelspec": {
      "name": "python3",
      "display_name": "Python 3"
    },
    "language_info": {
      "name": "python"
    }
  },
  "cells": [
    {
      "cell_type": "markdown",
      "metadata": {
        "id": "view-in-github",
        "colab_type": "text"
      },
      "source": [
        "<a href=\"https://colab.research.google.com/github/yh-arcsinx/leetcode/blob/master/477_%E6%B1%89%E6%98%8E%E8%B7%9D%E7%A6%BB%E6%80%BB%E5%92%8C.ipynb\" target=\"_parent\"><img src=\"https://colab.research.google.com/assets/colab-badge.svg\" alt=\"Open In Colab\"/></a>"
      ]
    },
    {
      "cell_type": "code",
      "metadata": {
        "id": "cQ1rzim8FGY0"
      },
      "source": [
        "class Solution:\n",
        "    def totalHammingDistance(self, nums: List[int]) -> int:\n",
        "        sum1=0\n",
        "        for i in range(30):\n",
        "            count=sum((val>>i)&1 for val in nums)\n",
        "            sum1+=count*(len(nums)-count)\n",
        "        return sum1"
      ],
      "execution_count": null,
      "outputs": []
    }
  ]
}