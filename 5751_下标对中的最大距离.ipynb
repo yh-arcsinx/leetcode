{
  "nbformat": 4,
  "nbformat_minor": 0,
  "metadata": {
    "colab": {
      "name": "5751. 下标对中的最大距离.ipynb",
      "provenance": [],
      "collapsed_sections": [],
      "authorship_tag": "ABX9TyOsNj+ORSjcBXjXQrjTnhsR",
      "include_colab_link": true
    },
    "kernelspec": {
      "name": "python3",
      "display_name": "Python 3"
    },
    "language_info": {
      "name": "python"
    }
  },
  "cells": [
    {
      "cell_type": "markdown",
      "metadata": {
        "id": "view-in-github",
        "colab_type": "text"
      },
      "source": [
        "<a href=\"https://colab.research.google.com/github/yh-arcsinx/leetcode/blob/master/5751_%E4%B8%8B%E6%A0%87%E5%AF%B9%E4%B8%AD%E7%9A%84%E6%9C%80%E5%A4%A7%E8%B7%9D%E7%A6%BB.ipynb\" target=\"_parent\"><img src=\"https://colab.research.google.com/assets/colab-badge.svg\" alt=\"Open In Colab\"/></a>"
      ]
    },
    {
      "cell_type": "code",
      "metadata": {
        "id": "3qcxL8VeUHZj"
      },
      "source": [
        "class Solution:\n",
        "    def maxDistance(self, nums1: List[int], nums2: List[int]) -> int:\n",
        "        length =0\n",
        "        n =len(nums2)\n",
        "        j=0\n",
        "        for i in range(len(nums1)):\n",
        "            while j <n and nums1[i]<=nums2[j]:\n",
        "                j=j+1\n",
        "            if length<(j-i):\n",
        "                length =j-i\n",
        "\n",
        "        return length"
      ],
      "execution_count": null,
      "outputs": []
    }
  ]
}