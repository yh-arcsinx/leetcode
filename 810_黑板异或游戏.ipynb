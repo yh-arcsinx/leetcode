{
  "nbformat": 4,
  "nbformat_minor": 0,
  "metadata": {
    "colab": {
      "name": "810. 黑板异或游戏.ipynb",
      "provenance": [],
      "authorship_tag": "ABX9TyO1cD1un08oG5DJIVj68o8Q",
      "include_colab_link": true
    },
    "kernelspec": {
      "name": "python3",
      "display_name": "Python 3"
    },
    "language_info": {
      "name": "python"
    }
  },
  "cells": [
    {
      "cell_type": "markdown",
      "metadata": {
        "id": "view-in-github",
        "colab_type": "text"
      },
      "source": [
        "<a href=\"https://colab.research.google.com/github/yh-arcsinx/leetcode/blob/master/810_%E9%BB%91%E6%9D%BF%E5%BC%82%E6%88%96%E6%B8%B8%E6%88%8F.ipynb\" target=\"_parent\"><img src=\"https://colab.research.google.com/assets/colab-badge.svg\" alt=\"Open In Colab\"/></a>"
      ]
    },
    {
      "cell_type": "code",
      "metadata": {
        "id": "ol9vupAzQ0F9"
      },
      "source": [
        "class Solution:\n",
        "    def xorGame(self, nums: List[int]) -> bool:\n",
        "        sum=0\n",
        "        for i in nums:\n",
        "            sum=sum^i\n",
        "\n",
        "        if sum==0:\n",
        "            return True\n",
        "        else:\n",
        "            if len(nums)%2==1:\n",
        "                return False\n",
        "            return True"
      ],
      "execution_count": null,
      "outputs": []
    }
  ]
}