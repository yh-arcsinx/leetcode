{
  "nbformat": 4,
  "nbformat_minor": 0,
  "metadata": {
    "colab": {
      "name": "692. 前K个高频单词.ipynb",
      "provenance": [],
      "authorship_tag": "ABX9TyMlXeZbk/NmCkuwYKEiAB06",
      "include_colab_link": true
    },
    "kernelspec": {
      "name": "python3",
      "display_name": "Python 3"
    },
    "language_info": {
      "name": "python"
    }
  },
  "cells": [
    {
      "cell_type": "markdown",
      "metadata": {
        "id": "view-in-github",
        "colab_type": "text"
      },
      "source": [
        "<a href=\"https://colab.research.google.com/github/yh-arcsinx/leetcode/blob/master/692_%E5%89%8DK%E4%B8%AA%E9%AB%98%E9%A2%91%E5%8D%95%E8%AF%8D.ipynb\" target=\"_parent\"><img src=\"https://colab.research.google.com/assets/colab-badge.svg\" alt=\"Open In Colab\"/></a>"
      ]
    },
    {
      "cell_type": "code",
      "metadata": {
        "id": "TwvMv-1imwQb"
      },
      "source": [
        "from typing import List\n",
        "import numpy as np"
      ],
      "execution_count": 68,
      "outputs": []
    },
    {
      "cell_type": "code",
      "metadata": {
        "id": "b_Wk8lOzm1d8"
      },
      "source": [
        "class Solution:\n",
        "    def topKFrequent(self, words: List[str], k: int) -> List[str]:\n",
        "        map1={}\n",
        "        list1=[]\n",
        "        list2=[]\n",
        "        for i in words:\n",
        "            map1[i]=map1.get(i,0)+1\n",
        "        list1=list(map1.items())\n",
        "        list1.sort(key=lambda x:(-x[1],x[0]))\n",
        "        for i,j in list1:\n",
        "            list2.append(i)\n",
        "        return list2[:k]\n",
        "\n"
      ],
      "execution_count": 48,
      "outputs": []
    },
    {
      "cell_type": "code",
      "metadata": {
        "id": "rXRumzGduYOH"
      },
      "source": [
        "class Solution:\n",
        "    def topKFrequent(self, words: List[str], k: int) -> List[str]:\n",
        "        map1={}\n",
        "        for i in words:\n",
        "            map1[i]=map1.get(i,0)+1\n",
        "        list1=np.array(sorted(map1.items(),key=lambda x:(-x[1],x[0])))\n",
        "\n",
        "        return list1[:k,0]\n"
      ],
      "execution_count": 75,
      "outputs": []
    },
    {
      "cell_type": "code",
      "metadata": {
        "colab": {
          "base_uri": "https://localhost:8080/"
        },
        "id": "KinOI7jNm2vt",
        "outputId": "d3c0c993-7807-4ca3-a9a1-e841b320f63b"
      },
      "source": [
        "print(Solution().topKFrequent([ \"love\", \"leetcode\",\"i\" ,\"i\", \"love\", \"coding\"], k = 2))"
      ],
      "execution_count": 76,
      "outputs": [
        {
          "output_type": "stream",
          "text": [
            "['i' 'love']\n"
          ],
          "name": "stdout"
        }
      ]
    },
    {
      "cell_type": "code",
      "metadata": {
        "id": "_zzwxdwcnmcp"
      },
      "source": [
        "map1={'love': 2, 'leetcode': 1, 'i': 2, 'coding': 1}"
      ],
      "execution_count": 61,
      "outputs": []
    },
    {
      "cell_type": "code",
      "metadata": {
        "colab": {
          "base_uri": "https://localhost:8080/"
        },
        "id": "52oH9OgkugS0",
        "outputId": "1a327f8b-3539-4678-8b7b-04d1c50ee0e9"
      },
      "source": [
        "list(map1)[:2]"
      ],
      "execution_count": 57,
      "outputs": [
        {
          "output_type": "execute_result",
          "data": {
            "text/plain": [
              "['love', 'leetcode']"
            ]
          },
          "metadata": {
            "tags": []
          },
          "execution_count": 57
        }
      ]
    },
    {
      "cell_type": "code",
      "metadata": {
        "id": "liwFweKGoKR1"
      },
      "source": [
        "list1=list(map1.items())"
      ],
      "execution_count": 38,
      "outputs": []
    },
    {
      "cell_type": "code",
      "metadata": {
        "colab": {
          "base_uri": "https://localhost:8080/"
        },
        "id": "UEjtCkVfoPlS",
        "outputId": "124d0c65-4b8d-4f9f-d702-ecb5a9118d61"
      },
      "source": [
        "print(list1)"
      ],
      "execution_count": 39,
      "outputs": [
        {
          "output_type": "stream",
          "text": [
            "[('love', 2), ('leetcode', 1), ('i', 2), ('coding', 1)]\n"
          ],
          "name": "stdout"
        }
      ]
    },
    {
      "cell_type": "code",
      "metadata": {
        "id": "jD9QYo5RsFqd"
      },
      "source": [
        "list1.sort(key=lambda x:(-x[1],x[0]))"
      ],
      "execution_count": 42,
      "outputs": []
    },
    {
      "cell_type": "code",
      "metadata": {
        "colab": {
          "base_uri": "https://localhost:8080/"
        },
        "id": "EyvGegJQscpL",
        "outputId": "c12924a1-977b-4d9c-fbf0-d9eb2b6eecf4"
      },
      "source": [
        "print(list1)"
      ],
      "execution_count": 43,
      "outputs": [
        {
          "output_type": "stream",
          "text": [
            "[('i', 2), ('love', 2), ('coding', 1), ('leetcode', 1)]\n"
          ],
          "name": "stdout"
        }
      ]
    },
    {
      "cell_type": "code",
      "metadata": {
        "colab": {
          "base_uri": "https://localhost:8080/"
        },
        "id": "DJ3APEYEsd4o",
        "outputId": "9bf7fe22-b973-4759-e733-7a8efd42b4d1"
      },
      "source": [
        "sorted(map1.items(),key=lambda x:(-x[1],x[0]))"
      ],
      "execution_count": 62,
      "outputs": [
        {
          "output_type": "execute_result",
          "data": {
            "text/plain": [
              "[('i', 2), ('love', 2), ('coding', 1), ('leetcode', 1)]"
            ]
          },
          "metadata": {
            "tags": []
          },
          "execution_count": 62
        }
      ]
    },
    {
      "cell_type": "code",
      "metadata": {
        "colab": {
          "base_uri": "https://localhost:8080/"
        },
        "id": "A-2-gni9uGxz",
        "outputId": "17793123-5b06-4499-d97e-92eb2b88bd07"
      },
      "source": [
        "map1"
      ],
      "execution_count": 63,
      "outputs": [
        {
          "output_type": "execute_result",
          "data": {
            "text/plain": [
              "{'coding': 1, 'i': 2, 'leetcode': 1, 'love': 2}"
            ]
          },
          "metadata": {
            "tags": []
          },
          "execution_count": 63
        }
      ]
    },
    {
      "cell_type": "code",
      "metadata": {
        "id": "c6Ps4YBDu5Qt"
      },
      "source": [
        "a=np.array([[1,2,3,4],[2,3,4,5]])"
      ],
      "execution_count": 71,
      "outputs": []
    },
    {
      "cell_type": "code",
      "metadata": {
        "colab": {
          "base_uri": "https://localhost:8080/"
        },
        "id": "STXFlBrFwIK8",
        "outputId": "87d294ba-82ec-4bd9-c638-cf72d2fc418e"
      },
      "source": [
        "print(a)"
      ],
      "execution_count": 72,
      "outputs": [
        {
          "output_type": "stream",
          "text": [
            "[[1 2 3 4]\n",
            " [2 3 4 5]]\n"
          ],
          "name": "stdout"
        }
      ]
    },
    {
      "cell_type": "code",
      "metadata": {
        "id": "JqVOwZlVwY8N"
      },
      "source": [
        ""
      ],
      "execution_count": null,
      "outputs": []
    }
  ]
}