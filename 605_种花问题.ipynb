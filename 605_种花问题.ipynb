{
  "nbformat": 4,
  "nbformat_minor": 0,
  "metadata": {
    "colab": {
      "name": "605. 种花问题.ipynb",
      "provenance": [],
      "collapsed_sections": [],
      "authorship_tag": "ABX9TyPFQLqbQ9VapoJXpvUFZ4RT",
      "include_colab_link": true
    },
    "kernelspec": {
      "name": "python3",
      "display_name": "Python 3"
    },
    "language_info": {
      "name": "python"
    }
  },
  "cells": [
    {
      "cell_type": "markdown",
      "metadata": {
        "id": "view-in-github",
        "colab_type": "text"
      },
      "source": [
        "<a href=\"https://colab.research.google.com/github/yh-arcsinx/leetcode/blob/master/605_%E7%A7%8D%E8%8A%B1%E9%97%AE%E9%A2%98.ipynb\" target=\"_parent\"><img src=\"https://colab.research.google.com/assets/colab-badge.svg\" alt=\"Open In Colab\"/></a>"
      ]
    },
    {
      "cell_type": "code",
      "metadata": {
        "id": "jw5Pg6Oshfcs"
      },
      "source": [
        "class Solution:\n",
        "    def canPlaceFlowers(self, flowerbed: List[int], n: int) -> bool:\n",
        "        num=0\n",
        "        plant=0\n",
        "        flowerbed.append(0)\n",
        "        flowerbed.insert(0,0)\n",
        "        for i in flowerbed:\n",
        "            if i==0:\n",
        "                plant+=1\n",
        "                if plant==3:\n",
        "                    num+=1\n",
        "                    plant=1\n",
        "            else:\n",
        "                plant=0\n",
        "        return num>=n"
      ],
      "execution_count": null,
      "outputs": []
    }
  ]
}