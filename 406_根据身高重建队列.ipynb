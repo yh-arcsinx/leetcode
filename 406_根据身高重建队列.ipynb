{
  "nbformat": 4,
  "nbformat_minor": 0,
  "metadata": {
    "colab": {
      "name": "406. 根据身高重建队列.ipynb",
      "provenance": [],
      "authorship_tag": "ABX9TyP5Jn80Pyeth/BtQnQm8ZNU",
      "include_colab_link": true
    },
    "kernelspec": {
      "name": "python3",
      "display_name": "Python 3"
    },
    "language_info": {
      "name": "python"
    }
  },
  "cells": [
    {
      "cell_type": "markdown",
      "metadata": {
        "id": "view-in-github",
        "colab_type": "text"
      },
      "source": [
        "<a href=\"https://colab.research.google.com/github/yh-arcsinx/leetcode/blob/master/406_%E6%A0%B9%E6%8D%AE%E8%BA%AB%E9%AB%98%E9%87%8D%E5%BB%BA%E9%98%9F%E5%88%97.ipynb\" target=\"_parent\"><img src=\"https://colab.research.google.com/assets/colab-badge.svg\" alt=\"Open In Colab\"/></a>"
      ]
    },
    {
      "cell_type": "code",
      "metadata": {
        "id": "D2TSDxxqVRQr"
      },
      "source": [
        "from typing import List"
      ],
      "execution_count": 1,
      "outputs": []
    },
    {
      "cell_type": "code",
      "metadata": {
        "colab": {
          "base_uri": "https://localhost:8080/"
        },
        "id": "-daDNmr1WLV2",
        "outputId": "f1b42567-a370-4b1e-eed5-05e4f58d9622"
      },
      "source": [
        "people=[[8,2],[4,2],[4,5],[2,0],[7,2],[1,4],[9,1],[3,1],[9,0],[1,0]]\n",
        "people.sort()\n",
        "print(people)\n",
        "b=people.pop(-1)\n",
        "list1=[]\n",
        "list2=[]\n",
        "while people:\n",
        "    a=people.pop(-1)\n",
        "    if a[0]!=b[0]:\n",
        "        list1.insert(b[1],b)\n",
        "        while list2:\n",
        "            b=list2.pop(-1)\n",
        "            list1.insert(b[1],b)\n",
        "        \n",
        "    elif a[0]==b[0]:\n",
        "        list2.append(b)\n",
        "    b=a\n",
        "list1.insert(b[1],b)\n",
        "while list2:\n",
        "    b=list2.pop(-1)\n",
        "    list1.insert(b[1],b)\n",
        "print(list1)\n",
        "\n"
      ],
      "execution_count": 33,
      "outputs": [
        {
          "output_type": "stream",
          "text": [
            "[[1, 0], [2, 0], [9, 0], [3, 1], [1, 4], [9, 1], [4, 2], [7, 2], [8, 2], [4, 5]]\n"
          ],
          "name": "stdout"
        }
      ]
    },
    {
      "cell_type": "code",
      "metadata": {
        "id": "J80-1Zl8VIxa"
      },
      "source": [
        "class Solution:\n",
        "    def reconstructQueue(self, people: List[List[int]]) -> List[List[int]]:\n",
        "\n",
        "        people.sort(key=lambda x:(x[0],-x[1]))\n",
        "        list1=[]\n",
        "        while people:\n",
        "            a=people.pop(-1)\n",
        "            list1.insert(a[1],a)\n",
        "        return list1"
      ],
      "execution_count": 35,
      "outputs": []
    },
    {
      "cell_type": "code",
      "metadata": {
        "colab": {
          "base_uri": "https://localhost:8080/"
        },
        "id": "GSEYjGPnVWtI",
        "outputId": "ff5ce031-31ab-4c15-c7ef-1841a5e80d27"
      },
      "source": [
        "print(Solution().reconstructQueue(people=[[8,2],[4,2],[4,5],[2,0],[7,2],[1,4],[9,1],[3,1],[9,0],[1,0]]))"
      ],
      "execution_count": 36,
      "outputs": [
        {
          "output_type": "stream",
          "text": [
            "[[1, 0], [2, 0], [9, 0], [3, 1], [1, 4], [9, 1], [4, 2], [7, 2], [8, 2], [4, 5]]\n"
          ],
          "name": "stdout"
        }
      ]
    },
    {
      "cell_type": "code",
      "metadata": {
        "id": "yCdIDogBVhrP"
      },
      "source": [
        ""
      ],
      "execution_count": 32,
      "outputs": []
    },
    {
      "cell_type": "code",
      "metadata": {
        "colab": {
          "base_uri": "https://localhost:8080/"
        },
        "id": "e1FjjSQmXALV",
        "outputId": "36654c4c-b9c3-4d6e-c7db-a4c8ccbaf32a"
      },
      "source": [
        "print(b)"
      ],
      "execution_count": 30,
      "outputs": [
        {
          "output_type": "stream",
          "text": [
            "[1, 0]\n"
          ],
          "name": "stdout"
        }
      ]
    },
    {
      "cell_type": "code",
      "metadata": {
        "colab": {
          "base_uri": "https://localhost:8080/"
        },
        "id": "hRq4nCeSXLKd",
        "outputId": "7a63a54c-8756-4472-a685-7a908f559f43"
      },
      "source": [
        "type(list1)"
      ],
      "execution_count": 12,
      "outputs": [
        {
          "output_type": "execute_result",
          "data": {
            "text/plain": [
              "list"
            ]
          },
          "metadata": {
            "tags": []
          },
          "execution_count": 12
        }
      ]
    },
    {
      "cell_type": "code",
      "metadata": {
        "id": "MsHikxlkXhOY"
      },
      "source": [
        ""
      ],
      "execution_count": null,
      "outputs": []
    }
  ]
}